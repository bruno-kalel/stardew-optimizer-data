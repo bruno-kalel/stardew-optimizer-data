{
 "cells": [
  {
   "cell_type": "markdown",
   "metadata": {
    "id": "cIIk_A3yDwz2"
   },
   "source": [
    "## IMPORTS"
   ]
  },
  {
   "cell_type": "markdown",
   "metadata": {
    "id": "JG5AGJNSItwd"
   },
   "source": [
    "* Nome da semente, estacao da semente, quanto custa, quanto vende cada qualidade, quantos quadrados exige, quanto tempo leva (e se dá mais de 1x. Caso de, de quantos em quantos dias apos a primeira colheita- implementar isso dps)"
   ]
  },
  {
   "cell_type": "code",
   "execution_count": 22,
   "metadata": {
    "ExecuteTime": {
     "end_time": "2023-11-25T02:37:42.929950800Z",
     "start_time": "2023-11-25T02:37:39.715634200Z"
    },
    "colab": {
     "base_uri": "https://localhost:8080/"
    },
    "id": "gCSRntsSX7xY",
    "outputId": "c1e555b9-0869-444e-af9b-496924fa6324"
   },
   "outputs": [
    {
     "name": "stdout",
     "output_type": "stream",
     "text": [
      "Requirement already satisfied: unidecode in c:\\users\\marco\\pycharmprojects\\stardew\\venv\\lib\\site-packages (1.3.7)\n"
     ]
    },
    {
     "name": "stderr",
     "output_type": "stream",
     "text": [
      "\n",
      "[notice] A new release of pip is available: 23.2.1 -> 23.3.1\n",
      "[notice] To update, run: python.exe -m pip install --upgrade pip\n"
     ]
    }
   ],
   "source": [
    "!pip install unidecode"
   ]
  },
  {
   "cell_type": "code",
   "execution_count": 23,
   "metadata": {
    "ExecuteTime": {
     "end_time": "2023-11-25T02:37:46.809994600Z",
     "start_time": "2023-11-25T02:37:42.928953400Z"
    },
    "collapsed": false
   },
   "outputs": [
    {
     "name": "stdout",
     "output_type": "stream",
     "text": [
      "Requirement already satisfied: pandas in c:\\users\\marco\\pycharmprojects\\stardew\\venv\\lib\\site-packages (2.1.3)\n",
      "Requirement already satisfied: numpy<2,>=1.23.2 in c:\\users\\marco\\pycharmprojects\\stardew\\venv\\lib\\site-packages (from pandas) (1.26.2)\n",
      "Requirement already satisfied: python-dateutil>=2.8.2 in c:\\users\\marco\\pycharmprojects\\stardew\\venv\\lib\\site-packages (from pandas) (2.8.2)\n",
      "Requirement already satisfied: pytz>=2020.1 in c:\\users\\marco\\pycharmprojects\\stardew\\venv\\lib\\site-packages (from pandas) (2023.3.post1)\n",
      "Requirement already satisfied: tzdata>=2022.1 in c:\\users\\marco\\pycharmprojects\\stardew\\venv\\lib\\site-packages (from pandas) (2023.3)\n",
      "Requirement already satisfied: six>=1.5 in c:\\users\\marco\\pycharmprojects\\stardew\\venv\\lib\\site-packages (from python-dateutil>=2.8.2->pandas) (1.16.0)\n"
     ]
    },
    {
     "name": "stderr",
     "output_type": "stream",
     "text": [
      "\n",
      "[notice] A new release of pip is available: 23.2.1 -> 23.3.1\n",
      "[notice] To update, run: python.exe -m pip install --upgrade pip\n"
     ]
    }
   ],
   "source": [
    "!pip install pandas"
   ]
  },
  {
   "cell_type": "code",
   "execution_count": 24,
   "metadata": {
    "ExecuteTime": {
     "end_time": "2023-11-25T02:37:49.341117400Z",
     "start_time": "2023-11-25T02:37:46.807002600Z"
    },
    "collapsed": false
   },
   "outputs": [
    {
     "name": "stdout",
     "output_type": "stream",
     "text": [
      "Requirement already satisfied: flask_sqlalchemy in c:\\users\\marco\\pycharmprojects\\stardew\\venv\\lib\\site-packages (3.1.1)\n",
      "Requirement already satisfied: flask>=2.2.5 in c:\\users\\marco\\pycharmprojects\\stardew\\venv\\lib\\site-packages (from flask_sqlalchemy) (3.0.0)\n",
      "Requirement already satisfied: sqlalchemy>=2.0.16 in c:\\users\\marco\\pycharmprojects\\stardew\\venv\\lib\\site-packages (from flask_sqlalchemy) (2.0.23)\n",
      "Requirement already satisfied: Werkzeug>=3.0.0 in c:\\users\\marco\\pycharmprojects\\stardew\\venv\\lib\\site-packages (from flask>=2.2.5->flask_sqlalchemy) (3.0.1)\n",
      "Requirement already satisfied: Jinja2>=3.1.2 in c:\\users\\marco\\pycharmprojects\\stardew\\venv\\lib\\site-packages (from flask>=2.2.5->flask_sqlalchemy) (3.1.2)\n",
      "Requirement already satisfied: itsdangerous>=2.1.2 in c:\\users\\marco\\pycharmprojects\\stardew\\venv\\lib\\site-packages (from flask>=2.2.5->flask_sqlalchemy) (2.1.2)\n",
      "Requirement already satisfied: click>=8.1.3 in c:\\users\\marco\\pycharmprojects\\stardew\\venv\\lib\\site-packages (from flask>=2.2.5->flask_sqlalchemy) (8.1.7)\n",
      "Requirement already satisfied: blinker>=1.6.2 in c:\\users\\marco\\pycharmprojects\\stardew\\venv\\lib\\site-packages (from flask>=2.2.5->flask_sqlalchemy) (1.7.0)\n",
      "Requirement already satisfied: typing-extensions>=4.2.0 in c:\\users\\marco\\pycharmprojects\\stardew\\venv\\lib\\site-packages (from sqlalchemy>=2.0.16->flask_sqlalchemy) (4.8.0)\n",
      "Requirement already satisfied: greenlet!=0.4.17 in c:\\users\\marco\\pycharmprojects\\stardew\\venv\\lib\\site-packages (from sqlalchemy>=2.0.16->flask_sqlalchemy) (3.0.1)\n",
      "Requirement already satisfied: colorama in c:\\users\\marco\\pycharmprojects\\stardew\\venv\\lib\\site-packages (from click>=8.1.3->flask>=2.2.5->flask_sqlalchemy) (0.4.6)\n",
      "Requirement already satisfied: MarkupSafe>=2.0 in c:\\users\\marco\\pycharmprojects\\stardew\\venv\\lib\\site-packages (from Jinja2>=3.1.2->flask>=2.2.5->flask_sqlalchemy) (2.1.3)\n"
     ]
    },
    {
     "name": "stderr",
     "output_type": "stream",
     "text": [
      "\n",
      "[notice] A new release of pip is available: 23.2.1 -> 23.3.1\n",
      "[notice] To update, run: python.exe -m pip install --upgrade pip\n"
     ]
    }
   ],
   "source": [
    "!pip install flask_sqlalchemy"
   ]
  },
  {
   "cell_type": "code",
   "execution_count": 25,
   "metadata": {
    "ExecuteTime": {
     "end_time": "2023-11-25T02:37:51.709180800Z",
     "start_time": "2023-11-25T02:37:49.308781Z"
    },
    "collapsed": false
   },
   "outputs": [
    {
     "name": "stdout",
     "output_type": "stream",
     "text": [
      "Requirement already satisfied: flask in c:\\users\\marco\\pycharmprojects\\stardew\\venv\\lib\\site-packages (3.0.0)\n",
      "Requirement already satisfied: Werkzeug>=3.0.0 in c:\\users\\marco\\pycharmprojects\\stardew\\venv\\lib\\site-packages (from flask) (3.0.1)\n",
      "Requirement already satisfied: Jinja2>=3.1.2 in c:\\users\\marco\\pycharmprojects\\stardew\\venv\\lib\\site-packages (from flask) (3.1.2)\n",
      "Requirement already satisfied: itsdangerous>=2.1.2 in c:\\users\\marco\\pycharmprojects\\stardew\\venv\\lib\\site-packages (from flask) (2.1.2)\n",
      "Requirement already satisfied: click>=8.1.3 in c:\\users\\marco\\pycharmprojects\\stardew\\venv\\lib\\site-packages (from flask) (8.1.7)\n",
      "Requirement already satisfied: blinker>=1.6.2 in c:\\users\\marco\\pycharmprojects\\stardew\\venv\\lib\\site-packages (from flask) (1.7.0)\n",
      "Requirement already satisfied: colorama in c:\\users\\marco\\pycharmprojects\\stardew\\venv\\lib\\site-packages (from click>=8.1.3->flask) (0.4.6)\n",
      "Requirement already satisfied: MarkupSafe>=2.0 in c:\\users\\marco\\pycharmprojects\\stardew\\venv\\lib\\site-packages (from Jinja2>=3.1.2->flask) (2.1.3)\n"
     ]
    },
    {
     "name": "stderr",
     "output_type": "stream",
     "text": [
      "\n",
      "[notice] A new release of pip is available: 23.2.1 -> 23.3.1\n",
      "[notice] To update, run: python.exe -m pip install --upgrade pip\n"
     ]
    }
   ],
   "source": [
    "!pip install flask"
   ]
  },
  {
   "cell_type": "code",
   "execution_count": 26,
   "metadata": {
    "ExecuteTime": {
     "end_time": "2023-11-25T02:37:54.300686300Z",
     "start_time": "2023-11-25T02:37:51.709180800Z"
    },
    "collapsed": false
   },
   "outputs": [
    {
     "name": "stdout",
     "output_type": "stream",
     "text": [
      "Requirement already satisfied: psycopg2 in c:\\users\\marco\\pycharmprojects\\stardew\\venv\\lib\\site-packages (2.9.9)\n"
     ]
    },
    {
     "name": "stderr",
     "output_type": "stream",
     "text": [
      "\n",
      "[notice] A new release of pip is available: 23.2.1 -> 23.3.1\n",
      "[notice] To update, run: python.exe -m pip install --upgrade pip\n"
     ]
    }
   ],
   "source": [
    "!pip install psycopg2"
   ]
  },
  {
   "cell_type": "code",
   "execution_count": 27,
   "metadata": {
    "ExecuteTime": {
     "end_time": "2023-11-25T02:37:55.055079400Z",
     "start_time": "2023-11-25T02:37:54.296696500Z"
    },
    "id": "6MRdgnLVDyVV"
   },
   "outputs": [],
   "source": [
    "import requests\n",
    "from bs4 import BeautifulSoup\n",
    "import re\n",
    "# revisar os imports dps de finalizar. Ver quais nao estao sendo utilizados\n",
    "from unidecode import unidecode\n",
    "import pandas as pd"
   ]
  },
  {
   "cell_type": "markdown",
   "metadata": {
    "id": "_Alm4LIojVQO"
   },
   "source": [
    "## Pegar o quadro dos frutos"
   ]
  },
  {
   "cell_type": "code",
   "execution_count": 28,
   "metadata": {
    "ExecuteTime": {
     "end_time": "2023-11-25T02:37:55.072305200Z",
     "start_time": "2023-11-25T02:37:55.059037300Z"
    },
    "id": "GBqbrDsPjrLG"
   },
   "outputs": [],
   "source": [
    "valores_colunas_dataframe = [\"Nome_Fruto\", \"Inverno\", \"Outono\", \"Primavera\", \"Verão\", \"Preco_Compra\",\n",
    "                             \"Local_Compra\", \"Preco_Venda_Comum\", \"Preco_Venda_Incomum\", \"Dias_Para_Amadurecer\", \"Dias_Até_Colher_Novamente\"]"
   ]
  },
  {
   "cell_type": "code",
   "execution_count": 29,
   "metadata": {
    "ExecuteTime": {
     "end_time": "2023-11-25T02:37:55.082880600Z",
     "start_time": "2023-11-25T02:37:55.065324Z"
    },
    "id": "UDyhpxbpkRcE"
   },
   "outputs": [],
   "source": [
    "dataframe_stardewvalley = pd.DataFrame(columns=valores_colunas_dataframe)"
   ]
  },
  {
   "cell_type": "code",
   "execution_count": 30,
   "metadata": {
    "ExecuteTime": {
     "end_time": "2023-11-25T02:37:55.139167200Z",
     "start_time": "2023-11-25T02:37:55.083878400Z"
    },
    "colab": {
     "base_uri": "https://localhost:8080/"
    },
    "id": "EdvYIbPukvOY",
    "outputId": "eaa18b72-79e3-42b5-f30a-03afdeebdba0"
   },
   "outputs": [
    {
     "data": {
      "text/plain": [
       "Index(['Nome_Fruto', 'Inverno', 'Outono', 'Primavera', 'Verão', 'Preco_Compra',\n",
       "       'Local_Compra', 'Preco_Venda_Comum', 'Preco_Venda_Incomum',\n",
       "       'Dias_Para_Amadurecer', 'Dias_Até_Colher_Novamente'],\n",
       "      dtype='object')"
      ]
     },
     "execution_count": 30,
     "metadata": {},
     "output_type": "execute_result"
    }
   ],
   "source": [
    "dataframe_stardewvalley.columns"
   ]
  },
  {
   "cell_type": "code",
   "execution_count": 31,
   "metadata": {
    "ExecuteTime": {
     "end_time": "2023-11-25T02:37:55.957822300Z",
     "start_time": "2023-11-25T02:37:55.103236Z"
    },
    "id": "9FqQ9pq7jdp4"
   },
   "outputs": [],
   "source": [
    "URL = \"https://pt.stardewvalleywiki.com/Lavouras\"\n",
    "page = requests.get(URL)\n",
    "\n",
    "soup = BeautifulSoup(page.content, \"html.parser\")"
   ]
  },
  {
   "cell_type": "code",
   "execution_count": 32,
   "metadata": {
    "ExecuteTime": {
     "end_time": "2023-11-25T02:37:55.973808300Z",
     "start_time": "2023-11-25T02:37:55.960815200Z"
    },
    "id": "ryUfhQ_njeHN"
   },
   "outputs": [],
   "source": [
    "results = soup.find()"
   ]
  },
  {
   "cell_type": "code",
   "execution_count": 33,
   "metadata": {
    "ExecuteTime": {
     "end_time": "2023-11-25T02:37:56.025682700Z",
     "start_time": "2023-11-25T02:37:55.966826900Z"
    },
    "id": "ATzMq-5-jg_p"
   },
   "outputs": [],
   "source": [
    "frutos_quadros = results.find_all(\"table\", class_=\"wikitable roundedborder\")"
   ]
  },
  {
   "cell_type": "code",
   "execution_count": 34,
   "metadata": {
    "ExecuteTime": {
     "end_time": "2023-11-25T02:37:56.026680700Z",
     "start_time": "2023-11-25T02:37:56.006753400Z"
    },
    "colab": {
     "base_uri": "https://localhost:8080/"
    },
    "id": "dyAozQKxjjk4",
    "outputId": "5ea08de2-8cf5-48db-f4d6-ecbb3779e270"
   },
   "outputs": [
    {
     "data": {
      "text/plain": [
       "41"
      ]
     },
     "execution_count": 34,
     "metadata": {},
     "output_type": "execute_result"
    }
   ],
   "source": [
    "len(frutos_quadros)"
   ]
  },
  {
   "cell_type": "code",
   "execution_count": 35,
   "metadata": {
    "ExecuteTime": {
     "end_time": "2023-11-25T02:37:56.071147200Z",
     "start_time": "2023-11-25T02:37:56.020696900Z"
    },
    "colab": {
     "base_uri": "https://localhost:8080/"
    },
    "id": "wbJJLL1gw_7k",
    "outputId": "0bc2b82d-ada4-4847-da6a-c729eb910a72"
   },
   "outputs": [
    {
     "data": {
      "text/plain": [
       "<table class=\"wikitable roundedborder\">\n",
       "<tbody><tr>\n",
       "<th>Estação</th>\n",
       "<th>Sementes\n",
       "</th></tr>\n",
       "<tr>\n",
       "<th>Primavera\n",
       "</th>\n",
       "<td style=\"padding: 6px;\"><link href=\"mw-data:TemplateStyles:r22059\" rel=\"mw-deduplicated-inline-style\"/><span class=\"nametemplateinline\"><img alt=\"Cauliflower Seeds.png\" decoding=\"async\" height=\"24\" src=\"https://stardewvalleywiki.com/mediawiki/images/thumb/b/bb/Cauliflower_Seeds.png/24px-Cauliflower_Seeds.png\" srcset=\"https://stardewvalleywiki.com/mediawiki/images/thumb/b/bb/Cauliflower_Seeds.png/36px-Cauliflower_Seeds.png 1.5x, https://stardewvalleywiki.com/mediawiki/images/b/bb/Cauliflower_Seeds.png 2x\" width=\"24\"/> <a href=\"/Sementes_de_Couve-flor\" title=\"Sementes de Couve-flor\">Sementes de Couve-flor</a></span> • <link href=\"mw-data:TemplateStyles:r22059\" rel=\"mw-deduplicated-inline-style\"/><span class=\"nametemplateinline\"><img alt=\"Parsnip Seeds.png\" decoding=\"async\" height=\"24\" src=\"https://stardewvalleywiki.com/mediawiki/images/thumb/d/d3/Parsnip_Seeds.png/24px-Parsnip_Seeds.png\" srcset=\"https://stardewvalleywiki.com/mediawiki/images/thumb/d/d3/Parsnip_Seeds.png/36px-Parsnip_Seeds.png 1.5x, https://stardewvalleywiki.com/mediawiki/images/d/d3/Parsnip_Seeds.png 2x\" width=\"24\"/> <a href=\"/Sementes_de_chir%C3%ADvia\" title=\"Sementes de chirívia\">Sementes de chirívia</a></span> • <link href=\"mw-data:TemplateStyles:r22059\" rel=\"mw-deduplicated-inline-style\"/><span class=\"nametemplateinline\"><img alt=\"Potato Seeds.png\" decoding=\"async\" height=\"24\" src=\"https://stardewvalleywiki.com/mediawiki/images/thumb/4/44/Potato_Seeds.png/24px-Potato_Seeds.png\" srcset=\"https://stardewvalleywiki.com/mediawiki/images/thumb/4/44/Potato_Seeds.png/36px-Potato_Seeds.png 1.5x, https://stardewvalleywiki.com/mediawiki/images/4/44/Potato_Seeds.png 2x\" width=\"24\"/> <a href=\"/Sementes_de_batata\" title=\"Sementes de batata\">Sementes de batata</a></span>\n",
       "</td></tr>\n",
       "<tr>\n",
       "<th>Verão\n",
       "</th>\n",
       "<td style=\"padding: 6px;\"><link href=\"mw-data:TemplateStyles:r22059\" rel=\"mw-deduplicated-inline-style\"/><span class=\"nametemplateinline\"><img alt=\"Corn Seeds.png\" decoding=\"async\" height=\"24\" src=\"https://stardewvalleywiki.com/mediawiki/images/thumb/d/d1/Corn_Seeds.png/24px-Corn_Seeds.png\" srcset=\"https://stardewvalleywiki.com/mediawiki/images/thumb/d/d1/Corn_Seeds.png/36px-Corn_Seeds.png 1.5x, https://stardewvalleywiki.com/mediawiki/images/d/d1/Corn_Seeds.png 2x\" width=\"24\"/> <a href=\"/Sementes_de_milho\" title=\"Sementes de milho\">Sementes de milho</a></span> • <link href=\"mw-data:TemplateStyles:r22059\" rel=\"mw-deduplicated-inline-style\"/><span class=\"nametemplateinline\"><img alt=\"Pepper Seeds.png\" decoding=\"async\" height=\"24\" src=\"https://stardewvalleywiki.com/mediawiki/images/thumb/6/67/Pepper_Seeds.png/24px-Pepper_Seeds.png\" srcset=\"https://stardewvalleywiki.com/mediawiki/images/thumb/6/67/Pepper_Seeds.png/36px-Pepper_Seeds.png 1.5x, https://stardewvalleywiki.com/mediawiki/images/6/67/Pepper_Seeds.png 2x\" width=\"24\"/> <a href=\"/Sementes_de_pimenta\" title=\"Sementes de pimenta\">Sementes de pimenta</a></span> • <link href=\"mw-data:TemplateStyles:r22059\" rel=\"mw-deduplicated-inline-style\"/><span class=\"nametemplateinline\"><img alt=\"Radish Seeds.png\" decoding=\"async\" height=\"24\" src=\"https://stardewvalleywiki.com/mediawiki/images/thumb/b/b1/Radish_Seeds.png/24px-Radish_Seeds.png\" srcset=\"https://stardewvalleywiki.com/mediawiki/images/thumb/b/b1/Radish_Seeds.png/36px-Radish_Seeds.png 1.5x, https://stardewvalleywiki.com/mediawiki/images/b/b1/Radish_Seeds.png 2x\" width=\"24\"/> <a href=\"/Sementes_de_rabanete\" title=\"Sementes de rabanete\">Sementes de rabanete</a></span> • <link href=\"mw-data:TemplateStyles:r22059\" rel=\"mw-deduplicated-inline-style\"/><span class=\"nametemplateinline\"><img alt=\"Wheat Seeds.png\" decoding=\"async\" height=\"24\" src=\"https://stardewvalleywiki.com/mediawiki/images/thumb/2/2b/Wheat_Seeds.png/24px-Wheat_Seeds.png\" srcset=\"https://stardewvalleywiki.com/mediawiki/images/thumb/2/2b/Wheat_Seeds.png/36px-Wheat_Seeds.png 1.5x, https://stardewvalleywiki.com/mediawiki/images/2/2b/Wheat_Seeds.png 2x\" width=\"24\"/> <a href=\"/Sementes_de_trigo\" title=\"Sementes de trigo\">Sementes de trigo</a></span>\n",
       "</td></tr>\n",
       "<tr>\n",
       "<th>Outono\n",
       "</th>\n",
       "<td style=\"padding: 6px;\"><link href=\"mw-data:TemplateStyles:r22059\" rel=\"mw-deduplicated-inline-style\"/><span class=\"nametemplateinline\"><img alt=\"Artichoke Seeds.png\" decoding=\"async\" height=\"24\" src=\"https://stardewvalleywiki.com/mediawiki/images/thumb/7/71/Artichoke_Seeds.png/24px-Artichoke_Seeds.png\" srcset=\"https://stardewvalleywiki.com/mediawiki/images/thumb/7/71/Artichoke_Seeds.png/36px-Artichoke_Seeds.png 1.5x, https://stardewvalleywiki.com/mediawiki/images/7/71/Artichoke_Seeds.png 2x\" width=\"24\"/> <a href=\"/Sementes_de_alcachofra\" title=\"Sementes de alcachofra\">Sementes de alcachofra</a></span> • <link href=\"mw-data:TemplateStyles:r22059\" rel=\"mw-deduplicated-inline-style\"/><span class=\"nametemplateinline\"><img alt=\"Corn Seeds.png\" decoding=\"async\" height=\"24\" src=\"https://stardewvalleywiki.com/mediawiki/images/thumb/d/d1/Corn_Seeds.png/24px-Corn_Seeds.png\" srcset=\"https://stardewvalleywiki.com/mediawiki/images/thumb/d/d1/Corn_Seeds.png/36px-Corn_Seeds.png 1.5x, https://stardewvalleywiki.com/mediawiki/images/d/d1/Corn_Seeds.png 2x\" width=\"24\"/> <a href=\"/Sementes_de_milho\" title=\"Sementes de milho\">Sementes de milho</a></span> • <link href=\"mw-data:TemplateStyles:r22059\" rel=\"mw-deduplicated-inline-style\"/><span class=\"nametemplateinline\"><img alt=\"Eggplant Seeds.png\" decoding=\"async\" height=\"24\" src=\"https://stardewvalleywiki.com/mediawiki/images/thumb/f/f9/Eggplant_Seeds.png/24px-Eggplant_Seeds.png\" srcset=\"https://stardewvalleywiki.com/mediawiki/images/thumb/f/f9/Eggplant_Seeds.png/36px-Eggplant_Seeds.png 1.5x, https://stardewvalleywiki.com/mediawiki/images/f/f9/Eggplant_Seeds.png 2x\" width=\"24\"/> <a href=\"/Sementes_de_berinjela\" title=\"Sementes de berinjela\">Sementes de berinjela</a></span> • <link href=\"mw-data:TemplateStyles:r22059\" rel=\"mw-deduplicated-inline-style\"/><span class=\"nametemplateinline\"><img alt=\"Pumpkin Seeds.png\" decoding=\"async\" height=\"24\" src=\"https://stardewvalleywiki.com/mediawiki/images/thumb/9/99/Pumpkin_Seeds.png/24px-Pumpkin_Seeds.png\" srcset=\"https://stardewvalleywiki.com/mediawiki/images/thumb/9/99/Pumpkin_Seeds.png/36px-Pumpkin_Seeds.png 1.5x, https://stardewvalleywiki.com/mediawiki/images/9/99/Pumpkin_Seeds.png 2x\" width=\"24\"/> <a href=\"/Sementes_de_ab%C3%B3bora\" title=\"Sementes de abóbora\">Sementes de abóbora</a></span>\n",
       "</td></tr>\n",
       "<tr>\n",
       "<th>Inverno\n",
       "</th>\n",
       "<td>Qualquer uma acima (na <a href=\"/Estufa\" title=\"Estufa\">Estufa</a> ou em um <a href=\"/Vaso_de_Jardim\" title=\"Vaso de Jardim\">Vaso de Jardim</a> em um ambiente interno).\n",
       "</td></tr>\n",
       "<tr>\n",
       "<th>Ilha Gengibre\n",
       "</th>\n",
       "<td style=\"padding: 6px;\"><link href=\"mw-data:TemplateStyles:r22059\" rel=\"mw-deduplicated-inline-style\"/><span class=\"nametemplateinline\"><img alt=\"Rhubarb Seeds.png\" decoding=\"async\" height=\"24\" src=\"https://stardewvalleywiki.com/mediawiki/images/thumb/4/47/Rhubarb_Seeds.png/24px-Rhubarb_Seeds.png\" srcset=\"https://stardewvalleywiki.com/mediawiki/images/thumb/4/47/Rhubarb_Seeds.png/36px-Rhubarb_Seeds.png 1.5x, https://stardewvalleywiki.com/mediawiki/images/4/47/Rhubarb_Seeds.png 2x\" width=\"24\"/> <a href=\"/Sementes_de_ruibarbo\" title=\"Sementes de ruibarbo\">Sementes de ruibarbo</a></span> • <link href=\"mw-data:TemplateStyles:r22059\" rel=\"mw-deduplicated-inline-style\"/><span class=\"nametemplateinline\"><img alt=\"Melon Seeds.png\" decoding=\"async\" height=\"24\" src=\"https://stardewvalleywiki.com/mediawiki/images/thumb/5/5e/Melon_Seeds.png/24px-Melon_Seeds.png\" srcset=\"https://stardewvalleywiki.com/mediawiki/images/thumb/5/5e/Melon_Seeds.png/36px-Melon_Seeds.png 1.5x, https://stardewvalleywiki.com/mediawiki/images/5/5e/Melon_Seeds.png 2x\" width=\"24\"/> <a href=\"/Sementes_de_Mel%C3%A3o\" title=\"Sementes de Melão\">Sementes de Melão</a></span> • <link href=\"mw-data:TemplateStyles:r22059\" rel=\"mw-deduplicated-inline-style\"/><span class=\"nametemplateinline\"><img alt=\"Blueberry Seeds.png\" decoding=\"async\" height=\"24\" src=\"https://stardewvalleywiki.com/mediawiki/images/thumb/8/81/Blueberry_Seeds.png/24px-Blueberry_Seeds.png\" srcset=\"https://stardewvalleywiki.com/mediawiki/images/thumb/8/81/Blueberry_Seeds.png/36px-Blueberry_Seeds.png 1.5x, https://stardewvalleywiki.com/mediawiki/images/8/81/Blueberry_Seeds.png 2x\" width=\"24\"/> <a href=\"/Sementes_de_mirtilo\" title=\"Sementes de mirtilo\">Sementes de mirtilo</a></span> • <link href=\"mw-data:TemplateStyles:r22059\" rel=\"mw-deduplicated-inline-style\"/><span class=\"nametemplateinline\"><img alt=\"Pineapple Seeds.png\" decoding=\"async\" height=\"24\" src=\"https://stardewvalleywiki.com/mediawiki/images/thumb/1/17/Pineapple_Seeds.png/24px-Pineapple_Seeds.png\" srcset=\"https://stardewvalleywiki.com/mediawiki/images/thumb/1/17/Pineapple_Seeds.png/36px-Pineapple_Seeds.png 1.5x, https://stardewvalleywiki.com/mediawiki/images/1/17/Pineapple_Seeds.png 2x\" width=\"24\"/> <a href=\"/Sementes_de_Abacaxi\" title=\"Sementes de Abacaxi\">Sementes de Abacaxi</a></span>\n",
       "</td></tr></tbody></table>"
      ]
     },
     "execution_count": 35,
     "metadata": {},
     "output_type": "execute_result"
    }
   ],
   "source": [
    "frutos_quadros.pop()"
   ]
  },
  {
   "cell_type": "code",
   "execution_count": 36,
   "metadata": {
    "ExecuteTime": {
     "end_time": "2023-11-25T02:37:56.072145400Z",
     "start_time": "2023-11-25T02:37:56.039761400Z"
    },
    "colab": {
     "base_uri": "https://localhost:8080/"
    },
    "id": "MK-ZETK0xBqp",
    "outputId": "504772cc-f2d4-44cb-9b7d-11d220ce560c"
   },
   "outputs": [
    {
     "data": {
      "text/plain": [
       "40"
      ]
     },
     "execution_count": 36,
     "metadata": {},
     "output_type": "execute_result"
    }
   ],
   "source": [
    "len(frutos_quadros)"
   ]
  },
  {
   "cell_type": "markdown",
   "metadata": {
    "id": "WR1P9DWcjAlf"
   },
   "source": [
    "## Pegar nome do fruto"
   ]
  },
  {
   "cell_type": "code",
   "execution_count": 37,
   "metadata": {
    "ExecuteTime": {
     "end_time": "2023-11-25T02:37:56.138694400Z",
     "start_time": "2023-11-25T02:37:56.056716100Z"
    },
    "id": "z0qRe7lVsmRZ"
   },
   "outputs": [],
   "source": [
    "padrao_nomes_frutos = re.compile(r'\\s(.*)')"
   ]
  },
  {
   "cell_type": "code",
   "execution_count": 38,
   "metadata": {
    "ExecuteTime": {
     "end_time": "2023-11-25T02:37:56.228846900Z",
     "start_time": "2023-11-25T02:37:56.070151200Z"
    },
    "id": "S5uiFkYzr2eI"
   },
   "outputs": [],
   "source": [
    "h3_nomes_frutos = results.find_all(\"h3\")"
   ]
  },
  {
   "cell_type": "code",
   "execution_count": 39,
   "metadata": {
    "ExecuteTime": {
     "end_time": "2023-11-25T02:37:56.231839Z",
     "start_time": "2023-11-25T02:37:56.096391Z"
    },
    "id": "Bp55lGHatByA"
   },
   "outputs": [],
   "source": [
    "lista_nomes_frutos = []\n",
    "\n",
    "for h3_nome_fruto in h3_nomes_frutos:\n",
    "\n",
    "  nomes_frutos = h3_nome_fruto.find_all(\"a\")\n",
    "\n",
    "  for nome_fruto in nomes_frutos:\n",
    "\n",
    "    if nome_fruto.text.strip() and len(lista_nomes_frutos) < 40:\n",
    "\n",
    "      lista_nomes_frutos.append(nome_fruto.text)"
   ]
  },
  {
   "cell_type": "code",
   "execution_count": 40,
   "metadata": {
    "ExecuteTime": {
     "end_time": "2023-11-25T02:37:56.232836400Z",
     "start_time": "2023-11-25T02:37:56.109302200Z"
    },
    "id": "Y3BI6SU2vLii"
   },
   "outputs": [],
   "source": [
    "dataframe_stardewvalley[\"Nome_Fruto\"] = lista_nomes_frutos"
   ]
  },
  {
   "cell_type": "code",
   "execution_count": 41,
   "metadata": {
    "ExecuteTime": {
     "end_time": "2023-11-25T02:37:56.246799900Z",
     "start_time": "2023-11-25T02:37:56.123735400Z"
    },
    "colab": {
     "base_uri": "https://localhost:8080/"
    },
    "id": "-aIsyDGRuF2C",
    "outputId": "a37d0ae1-e5d3-41b1-d309-2e6a9a4da7d9"
   },
   "outputs": [
    {
     "data": {
      "text/plain": [
       "0"
      ]
     },
     "execution_count": 41,
     "metadata": {},
     "output_type": "execute_result"
    }
   ],
   "source": [
    "dataframe_stardewvalley[\"Nome_Fruto\"].isna().sum()"
   ]
  },
  {
   "cell_type": "code",
   "execution_count": 42,
   "metadata": {
    "ExecuteTime": {
     "end_time": "2023-11-25T02:37:56.247797Z",
     "start_time": "2023-11-25T02:37:56.143747700Z"
    },
    "colab": {
     "base_uri": "https://localhost:8080/"
    },
    "id": "B27lkVinv9jL",
    "outputId": "e78671ad-f612-4985-cd3b-b14135f96afb"
   },
   "outputs": [
    {
     "data": {
      "text/plain": [
       "(40, 11)"
      ]
     },
     "execution_count": 42,
     "metadata": {},
     "output_type": "execute_result"
    }
   ],
   "source": [
    "dataframe_stardewvalley.shape"
   ]
  },
  {
   "cell_type": "code",
   "execution_count": 43,
   "metadata": {
    "ExecuteTime": {
     "end_time": "2023-11-25T02:37:56.360461600Z",
     "start_time": "2023-11-25T02:37:56.163019400Z"
    },
    "colab": {
     "base_uri": "https://localhost:8080/",
     "height": 0
    },
    "id": "2Hdmoagav22Y",
    "outputId": "83986918-19f5-4cba-efc7-953c10f1a64b"
   },
   "outputs": [
    {
     "data": {
      "text/html": [
       "<div>\n",
       "<style scoped>\n",
       "    .dataframe tbody tr th:only-of-type {\n",
       "        vertical-align: middle;\n",
       "    }\n",
       "\n",
       "    .dataframe tbody tr th {\n",
       "        vertical-align: top;\n",
       "    }\n",
       "\n",
       "    .dataframe thead th {\n",
       "        text-align: right;\n",
       "    }\n",
       "</style>\n",
       "<table border=\"1\" class=\"dataframe\">\n",
       "  <thead>\n",
       "    <tr style=\"text-align: right;\">\n",
       "      <th></th>\n",
       "      <th>Nome_Fruto</th>\n",
       "      <th>Inverno</th>\n",
       "      <th>Outono</th>\n",
       "      <th>Primavera</th>\n",
       "      <th>Verão</th>\n",
       "      <th>Preco_Compra</th>\n",
       "      <th>Local_Compra</th>\n",
       "      <th>Preco_Venda_Comum</th>\n",
       "      <th>Preco_Venda_Incomum</th>\n",
       "      <th>Dias_Para_Amadurecer</th>\n",
       "      <th>Dias_Até_Colher_Novamente</th>\n",
       "    </tr>\n",
       "  </thead>\n",
       "  <tbody>\n",
       "    <tr>\n",
       "      <th>35</th>\n",
       "      <td>Cereja de Joia Doce</td>\n",
       "      <td>NaN</td>\n",
       "      <td>NaN</td>\n",
       "      <td>NaN</td>\n",
       "      <td>NaN</td>\n",
       "      <td>NaN</td>\n",
       "      <td>NaN</td>\n",
       "      <td>NaN</td>\n",
       "      <td>NaN</td>\n",
       "      <td>NaN</td>\n",
       "      <td>NaN</td>\n",
       "    </tr>\n",
       "    <tr>\n",
       "      <th>36</th>\n",
       "      <td>Fruta antiga</td>\n",
       "      <td>NaN</td>\n",
       "      <td>NaN</td>\n",
       "      <td>NaN</td>\n",
       "      <td>NaN</td>\n",
       "      <td>NaN</td>\n",
       "      <td>NaN</td>\n",
       "      <td>NaN</td>\n",
       "      <td>NaN</td>\n",
       "      <td>NaN</td>\n",
       "      <td>NaN</td>\n",
       "    </tr>\n",
       "    <tr>\n",
       "      <th>37</th>\n",
       "      <td>Fruto do cacto</td>\n",
       "      <td>NaN</td>\n",
       "      <td>NaN</td>\n",
       "      <td>NaN</td>\n",
       "      <td>NaN</td>\n",
       "      <td>NaN</td>\n",
       "      <td>NaN</td>\n",
       "      <td>NaN</td>\n",
       "      <td>NaN</td>\n",
       "      <td>NaN</td>\n",
       "      <td>NaN</td>\n",
       "    </tr>\n",
       "    <tr>\n",
       "      <th>38</th>\n",
       "      <td>Abacaxi</td>\n",
       "      <td>NaN</td>\n",
       "      <td>NaN</td>\n",
       "      <td>NaN</td>\n",
       "      <td>NaN</td>\n",
       "      <td>NaN</td>\n",
       "      <td>NaN</td>\n",
       "      <td>NaN</td>\n",
       "      <td>NaN</td>\n",
       "      <td>NaN</td>\n",
       "      <td>NaN</td>\n",
       "    </tr>\n",
       "    <tr>\n",
       "      <th>39</th>\n",
       "      <td>Folhas de Chá</td>\n",
       "      <td>NaN</td>\n",
       "      <td>NaN</td>\n",
       "      <td>NaN</td>\n",
       "      <td>NaN</td>\n",
       "      <td>NaN</td>\n",
       "      <td>NaN</td>\n",
       "      <td>NaN</td>\n",
       "      <td>NaN</td>\n",
       "      <td>NaN</td>\n",
       "      <td>NaN</td>\n",
       "    </tr>\n",
       "  </tbody>\n",
       "</table>\n",
       "</div>"
      ],
      "text/plain": [
       "             Nome_Fruto Inverno Outono Primavera Verão Preco_Compra  \\\n",
       "35  Cereja de Joia Doce     NaN    NaN       NaN   NaN          NaN   \n",
       "36         Fruta antiga     NaN    NaN       NaN   NaN          NaN   \n",
       "37       Fruto do cacto     NaN    NaN       NaN   NaN          NaN   \n",
       "38              Abacaxi     NaN    NaN       NaN   NaN          NaN   \n",
       "39        Folhas de Chá     NaN    NaN       NaN   NaN          NaN   \n",
       "\n",
       "   Local_Compra Preco_Venda_Comum Preco_Venda_Incomum Dias_Para_Amadurecer  \\\n",
       "35          NaN               NaN                 NaN                  NaN   \n",
       "36          NaN               NaN                 NaN                  NaN   \n",
       "37          NaN               NaN                 NaN                  NaN   \n",
       "38          NaN               NaN                 NaN                  NaN   \n",
       "39          NaN               NaN                 NaN                  NaN   \n",
       "\n",
       "   Dias_Até_Colher_Novamente  \n",
       "35                       NaN  \n",
       "36                       NaN  \n",
       "37                       NaN  \n",
       "38                       NaN  \n",
       "39                       NaN  "
      ]
     },
     "execution_count": 43,
     "metadata": {},
     "output_type": "execute_result"
    }
   ],
   "source": [
    "dataframe_stardewvalley.tail()"
   ]
  },
  {
   "cell_type": "code",
   "execution_count": 44,
   "metadata": {
    "ExecuteTime": {
     "end_time": "2023-11-25T02:37:56.361460200Z",
     "start_time": "2023-11-25T02:37:56.188705800Z"
    },
    "id": "hhYxADp_BwtR"
   },
   "outputs": [],
   "source": [
    "dataframe_stardewvalley = dataframe_stardewvalley.drop(\n",
    "    dataframe_stardewvalley.tail(5).index)"
   ]
  },
  {
   "cell_type": "code",
   "execution_count": 45,
   "metadata": {
    "ExecuteTime": {
     "end_time": "2023-11-25T02:37:56.362457200Z",
     "start_time": "2023-11-25T02:37:56.195650100Z"
    },
    "colab": {
     "base_uri": "https://localhost:8080/"
    },
    "id": "WIlxjlYVCAsT",
    "outputId": "38d066cc-9ef9-4e1b-81d7-e7db5f09e164"
   },
   "outputs": [
    {
     "data": {
      "text/plain": [
       "(35, 11)"
      ]
     },
     "execution_count": 45,
     "metadata": {},
     "output_type": "execute_result"
    }
   ],
   "source": [
    "dataframe_stardewvalley.shape"
   ]
  },
  {
   "cell_type": "markdown",
   "metadata": {
    "id": "23Hcd0ntryZU"
   },
   "source": [
    "## Pegar preco e local de venda do fruto"
   ]
  },
  {
   "cell_type": "code",
   "execution_count": 46,
   "metadata": {
    "ExecuteTime": {
     "end_time": "2023-11-25T02:37:56.383354300Z",
     "start_time": "2023-11-25T02:37:56.214023900Z"
    },
    "id": "BQIUoXaIohWd"
   },
   "outputs": [],
   "source": [
    "padrao_valores_vendas = re.compile(r'(?:Armazém|Mercado Joja).*')"
   ]
  },
  {
   "cell_type": "code",
   "execution_count": 47,
   "metadata": {
    "ExecuteTime": {
     "end_time": "2023-11-25T02:37:56.433137Z",
     "start_time": "2023-11-25T02:37:56.232836400Z"
    },
    "id": "lQtDBrmU33HN"
   },
   "outputs": [],
   "source": [
    "# lista dos valores comuns, pois a formatacao das sementes especiais é diferente\n",
    "lista_menores_valores_venda_comuns = []\n",
    "\n",
    "for fruto_quadro in frutos_quadros:  # para cada semente, pegar apenas o local que vende mais barato\n",
    "\n",
    "  preco_compra_local_venda = fruto_quadro.find_all(\"p\")\n",
    "\n",
    "  for preco_local in preco_compra_local_venda:\n",
    "\n",
    "    valores_vendas = re.sub(r'data-sort-value=\"[^\"]+\">', '', preco_local.text)\n",
    "\n",
    "    if 'ouros' in valores_vendas and '/d' not in valores_vendas:\n",
    "\n",
    "      valores_vendas_splitlines = valores_vendas.splitlines()\n",
    "\n",
    "      menor_valor_venda = valores_vendas_splitlines[0]\n",
    "\n",
    "      if len(valores_vendas_splitlines) > 0:\n",
    "\n",
    "        menor_valor_venda = valores_vendas_splitlines[0]\n",
    "\n",
    "        for valor_venda in valores_vendas_splitlines[1:]:\n",
    "\n",
    "          if int(re.search(r'(\\d+)', menor_valor_venda).group()) > int(re.search(r'(\\d+)', valor_venda).group()) and 'drop' not in valor_venda:\n",
    "\n",
    "            menor_valor_venda = valor_venda\n",
    "\n",
    "      lista_menores_valores_venda_comuns.append(\n",
    "        re.sub(r'\\xa0ouros', '', menor_valor_venda))"
   ]
  },
  {
   "cell_type": "code",
   "execution_count": 48,
   "metadata": {
    "ExecuteTime": {
     "end_time": "2023-11-25T02:37:56.450887100Z",
     "start_time": "2023-11-25T02:37:56.263665800Z"
    },
    "colab": {
     "base_uri": "https://localhost:8080/"
    },
    "id": "nea_53A42rt2",
    "outputId": "5ca10d08-18f6-41e3-a2f8-d9b26f6817d6"
   },
   "outputs": [
    {
     "data": {
      "text/plain": [
       "34"
      ]
     },
     "execution_count": 48,
     "metadata": {},
     "output_type": "execute_result"
    }
   ],
   "source": [
    "len(lista_menores_valores_venda_comuns)"
   ]
  },
  {
   "cell_type": "code",
   "execution_count": 49,
   "metadata": {
    "ExecuteTime": {
     "end_time": "2023-11-25T02:37:56.451884700Z",
     "start_time": "2023-11-25T02:37:56.289192800Z"
    },
    "colab": {
     "base_uri": "https://localhost:8080/"
    },
    "id": "m2B2sUas6TCl",
    "outputId": "81813056-7fd3-47d4-ad52-1ad1f9278b3d"
   },
   "outputs": [
    {
     "data": {
      "text/plain": [
       "['Armazém 40',\n",
       " 'Armazém 50',\n",
       " 'Armazém 20',\n",
       " 'Armazém 70',\n",
       " 'Armazém 80',\n",
       " 'Carrinho de Viagem 2\\xa0500',\n",
       " 'Armazém 30',\n",
       " 'Festival do Ovo 100',\n",
       " 'Oásis 100',\n",
       " 'Armazém 20',\n",
       " 'Armazém 60',\n",
       " 'Oásis 400',\n",
       " 'Armazém 50',\n",
       " 'Mercado Joja 125',\n",
       " 'Armazém 60',\n",
       " 'Armazém 80',\n",
       " 'Armazém 150',\n",
       " 'Armazém 80',\n",
       " 'Armazém 100',\n",
       " 'Armazém 40',\n",
       " 'Armazém 40',\n",
       " 'Armazém 100',\n",
       " 'Armazém 50',\n",
       " 'Armazém 10',\n",
       " 'Armazém 100',\n",
       " 'Armazém 30',\n",
       " 'Armazém 70',\n",
       " 'Armazém 20',\n",
       " 'Oásis 20',\n",
       " 'Armazém 50',\n",
       " 'Armazém 60',\n",
       " 'Armazém 240',\n",
       " 'Armazém 200',\n",
       " 'Armazém 60']"
      ]
     },
     "execution_count": 49,
     "metadata": {},
     "output_type": "execute_result"
    }
   ],
   "source": [
    "lista_menores_valores_venda_comuns"
   ]
  },
  {
   "cell_type": "code",
   "execution_count": 50,
   "metadata": {
    "ExecuteTime": {
     "end_time": "2023-11-25T02:37:56.452880800Z",
     "start_time": "2023-11-25T02:37:56.308851600Z"
    },
    "id": "28LHVRSg76cU"
   },
   "outputs": [],
   "source": [
    "lista_menores_valores_venda_comuns[5] = re.sub(\n",
    "    r'\\xa0', '', lista_menores_valores_venda_comuns[5])"
   ]
  },
  {
   "cell_type": "code",
   "execution_count": 51,
   "metadata": {
    "ExecuteTime": {
     "end_time": "2023-11-25T02:37:56.459366600Z",
     "start_time": "2023-11-25T02:37:56.322877800Z"
    },
    "colab": {
     "base_uri": "https://localhost:8080/"
    },
    "id": "5fw117-18DTA",
    "outputId": "fe271630-ca7c-4a73-e39e-dfa0b7a9a171"
   },
   "outputs": [
    {
     "data": {
      "text/plain": [
       "['Armazém 40',\n",
       " 'Armazém 50',\n",
       " 'Armazém 20',\n",
       " 'Armazém 70',\n",
       " 'Armazém 80',\n",
       " 'Carrinho de Viagem 2500',\n",
       " 'Armazém 30',\n",
       " 'Festival do Ovo 100',\n",
       " 'Oásis 100',\n",
       " 'Armazém 20',\n",
       " 'Armazém 60',\n",
       " 'Oásis 400',\n",
       " 'Armazém 50',\n",
       " 'Mercado Joja 125',\n",
       " 'Armazém 60',\n",
       " 'Armazém 80',\n",
       " 'Armazém 150',\n",
       " 'Armazém 80',\n",
       " 'Armazém 100',\n",
       " 'Armazém 40',\n",
       " 'Armazém 40',\n",
       " 'Armazém 100',\n",
       " 'Armazém 50',\n",
       " 'Armazém 10',\n",
       " 'Armazém 100',\n",
       " 'Armazém 30',\n",
       " 'Armazém 70',\n",
       " 'Armazém 20',\n",
       " 'Oásis 20',\n",
       " 'Armazém 50',\n",
       " 'Armazém 60',\n",
       " 'Armazém 240',\n",
       " 'Armazém 200',\n",
       " 'Armazém 60']"
      ]
     },
     "execution_count": 51,
     "metadata": {},
     "output_type": "execute_result"
    }
   ],
   "source": [
    "lista_menores_valores_venda_comuns"
   ]
  },
  {
   "cell_type": "code",
   "execution_count": 52,
   "metadata": {
    "ExecuteTime": {
     "end_time": "2023-11-25T02:37:56.700491100Z",
     "start_time": "2023-11-25T02:37:56.340516Z"
    },
    "id": "udh_pha95qal"
   },
   "outputs": [],
   "source": [
    "valor_menor_valor_venda_arroz_nao_moido = \"\"\n",
    "\n",
    "for fruto_quadro in frutos_quadros:\n",
    "\n",
    "  divs = fruto_quadro.find_all(\"div\", class_=\"no-wrap\")\n",
    "\n",
    "  for div in divs:\n",
    "\n",
    "    valor_arroz_nao_moido = re.sub(\n",
    "      r'.*?(Armazém): data-sort-value=\"(\\d+).*', r'\\1 \\2', div.text)\n",
    "\n",
    "    if \":\" not in valor_arroz_nao_moido:\n",
    "\n",
    "      lista_menores_valores_venda_comuns.insert(1, valor_arroz_nao_moido)"
   ]
  },
  {
   "cell_type": "code",
   "execution_count": 53,
   "metadata": {
    "ExecuteTime": {
     "end_time": "2023-11-25T02:37:56.703481600Z",
     "start_time": "2023-11-25T02:37:56.382356500Z"
    },
    "colab": {
     "base_uri": "https://localhost:8080/"
    },
    "id": "thOCQJkA9s8p",
    "outputId": "3dfa37d1-aa60-44a3-ecd7-e5249962afa6"
   },
   "outputs": [
    {
     "data": {
      "text/plain": [
       "35"
      ]
     },
     "execution_count": 53,
     "metadata": {},
     "output_type": "execute_result"
    }
   ],
   "source": [
    "len(lista_menores_valores_venda_comuns)"
   ]
  },
  {
   "cell_type": "code",
   "execution_count": 54,
   "metadata": {
    "ExecuteTime": {
     "end_time": "2023-11-25T02:37:56.704480900Z",
     "start_time": "2023-11-25T02:37:56.390885400Z"
    },
    "colab": {
     "base_uri": "https://localhost:8080/"
    },
    "id": "9XQADfpP9upT",
    "outputId": "4bbcd0c6-a43d-47f1-f134-0ca3a32a4d62"
   },
   "outputs": [
    {
     "data": {
      "text/plain": [
       "['Armazém 40',\n",
       " 'Armazém 40',\n",
       " 'Armazém 50',\n",
       " 'Armazém 20',\n",
       " 'Armazém 70',\n",
       " 'Armazém 80',\n",
       " 'Carrinho de Viagem 2500',\n",
       " 'Armazém 30',\n",
       " 'Festival do Ovo 100',\n",
       " 'Oásis 100',\n",
       " 'Armazém 20',\n",
       " 'Armazém 60',\n",
       " 'Oásis 400',\n",
       " 'Armazém 50',\n",
       " 'Mercado Joja 125',\n",
       " 'Armazém 60',\n",
       " 'Armazém 80',\n",
       " 'Armazém 150',\n",
       " 'Armazém 80',\n",
       " 'Armazém 100',\n",
       " 'Armazém 40',\n",
       " 'Armazém 40',\n",
       " 'Armazém 100',\n",
       " 'Armazém 50',\n",
       " 'Armazém 10',\n",
       " 'Armazém 100',\n",
       " 'Armazém 30',\n",
       " 'Armazém 70',\n",
       " 'Armazém 20',\n",
       " 'Oásis 20',\n",
       " 'Armazém 50',\n",
       " 'Armazém 60',\n",
       " 'Armazém 240',\n",
       " 'Armazém 200',\n",
       " 'Armazém 60']"
      ]
     },
     "execution_count": 54,
     "metadata": {},
     "output_type": "execute_result"
    }
   ],
   "source": [
    "lista_menores_valores_venda_comuns"
   ]
  },
  {
   "cell_type": "code",
   "execution_count": 55,
   "metadata": {
    "ExecuteTime": {
     "end_time": "2023-11-25T02:37:56.705478600Z",
     "start_time": "2023-11-25T02:37:56.408608100Z"
    },
    "id": "vMXNoWOqPDJF"
   },
   "outputs": [],
   "source": [
    "lista_preco_compra = [item.split()[-1]\n",
    "                      for item in lista_menores_valores_venda_comuns]\n",
    "lista_local_compra = [item.split()[0]\n",
    "                      for item in lista_menores_valores_venda_comuns]"
   ]
  },
  {
   "cell_type": "code",
   "execution_count": 56,
   "metadata": {
    "ExecuteTime": {
     "end_time": "2023-11-25T02:37:56.709466Z",
     "start_time": "2023-11-25T02:37:56.423164300Z"
    },
    "colab": {
     "base_uri": "https://localhost:8080/"
    },
    "id": "FefKALAAPNvq",
    "outputId": "edaaefb5-9ecd-46df-9ebf-016de801285a"
   },
   "outputs": [
    {
     "data": {
      "text/plain": [
       "35"
      ]
     },
     "execution_count": 56,
     "metadata": {},
     "output_type": "execute_result"
    }
   ],
   "source": [
    "len(lista_preco_compra)"
   ]
  },
  {
   "cell_type": "code",
   "execution_count": 57,
   "metadata": {
    "ExecuteTime": {
     "end_time": "2023-11-25T02:37:56.744402100Z",
     "start_time": "2023-11-25T02:37:56.441910400Z"
    },
    "colab": {
     "base_uri": "https://localhost:8080/"
    },
    "id": "9dpaDm2jPPT6",
    "outputId": "0d3d7617-8645-48c5-f441-b3e71b39d664"
   },
   "outputs": [
    {
     "data": {
      "text/plain": [
       "35"
      ]
     },
     "execution_count": 57,
     "metadata": {},
     "output_type": "execute_result"
    }
   ],
   "source": [
    "len(lista_local_compra)"
   ]
  },
  {
   "cell_type": "code",
   "execution_count": 58,
   "metadata": {
    "ExecuteTime": {
     "end_time": "2023-11-25T02:37:56.797230400Z",
     "start_time": "2023-11-25T02:37:56.458370Z"
    },
    "id": "c9_f780dPZxI"
   },
   "outputs": [],
   "source": [
    "dataframe_stardewvalley[\"Preco_Compra\"] = lista_preco_compra"
   ]
  },
  {
   "cell_type": "code",
   "execution_count": 59,
   "metadata": {
    "ExecuteTime": {
     "end_time": "2023-11-25T02:37:56.806207400Z",
     "start_time": "2023-11-25T02:37:56.481798800Z"
    },
    "id": "QbAnHxxIQLIm"
   },
   "outputs": [],
   "source": [
    "dataframe_stardewvalley[\"Local_Compra\"] = lista_local_compra"
   ]
  },
  {
   "cell_type": "code",
   "execution_count": 60,
   "metadata": {
    "ExecuteTime": {
     "end_time": "2023-11-25T02:37:56.809202100Z",
     "start_time": "2023-11-25T02:37:56.506207500Z"
    },
    "colab": {
     "base_uri": "https://localhost:8080/",
     "height": 243
    },
    "id": "so8pKWYsOWOE",
    "outputId": "66899eb1-a6a9-417d-87f2-50e1600c7ad3"
   },
   "outputs": [
    {
     "data": {
      "text/html": [
       "<div>\n",
       "<style scoped>\n",
       "    .dataframe tbody tr th:only-of-type {\n",
       "        vertical-align: middle;\n",
       "    }\n",
       "\n",
       "    .dataframe tbody tr th {\n",
       "        vertical-align: top;\n",
       "    }\n",
       "\n",
       "    .dataframe thead th {\n",
       "        text-align: right;\n",
       "    }\n",
       "</style>\n",
       "<table border=\"1\" class=\"dataframe\">\n",
       "  <thead>\n",
       "    <tr style=\"text-align: right;\">\n",
       "      <th></th>\n",
       "      <th>Nome_Fruto</th>\n",
       "      <th>Inverno</th>\n",
       "      <th>Outono</th>\n",
       "      <th>Primavera</th>\n",
       "      <th>Verão</th>\n",
       "      <th>Preco_Compra</th>\n",
       "      <th>Local_Compra</th>\n",
       "      <th>Preco_Venda_Comum</th>\n",
       "      <th>Preco_Venda_Incomum</th>\n",
       "      <th>Dias_Para_Amadurecer</th>\n",
       "      <th>Dias_Até_Colher_Novamente</th>\n",
       "    </tr>\n",
       "  </thead>\n",
       "  <tbody>\n",
       "    <tr>\n",
       "      <th>0</th>\n",
       "      <td>Alho</td>\n",
       "      <td>NaN</td>\n",
       "      <td>NaN</td>\n",
       "      <td>NaN</td>\n",
       "      <td>NaN</td>\n",
       "      <td>40</td>\n",
       "      <td>Armazém</td>\n",
       "      <td>NaN</td>\n",
       "      <td>NaN</td>\n",
       "      <td>NaN</td>\n",
       "      <td>NaN</td>\n",
       "    </tr>\n",
       "    <tr>\n",
       "      <th>1</th>\n",
       "      <td>Arroz não moído</td>\n",
       "      <td>NaN</td>\n",
       "      <td>NaN</td>\n",
       "      <td>NaN</td>\n",
       "      <td>NaN</td>\n",
       "      <td>40</td>\n",
       "      <td>Armazém</td>\n",
       "      <td>NaN</td>\n",
       "      <td>NaN</td>\n",
       "      <td>NaN</td>\n",
       "      <td>NaN</td>\n",
       "    </tr>\n",
       "    <tr>\n",
       "      <th>2</th>\n",
       "      <td>Batata</td>\n",
       "      <td>NaN</td>\n",
       "      <td>NaN</td>\n",
       "      <td>NaN</td>\n",
       "      <td>NaN</td>\n",
       "      <td>50</td>\n",
       "      <td>Armazém</td>\n",
       "      <td>NaN</td>\n",
       "      <td>NaN</td>\n",
       "      <td>NaN</td>\n",
       "      <td>NaN</td>\n",
       "    </tr>\n",
       "    <tr>\n",
       "      <th>3</th>\n",
       "      <td>Chirívia</td>\n",
       "      <td>NaN</td>\n",
       "      <td>NaN</td>\n",
       "      <td>NaN</td>\n",
       "      <td>NaN</td>\n",
       "      <td>20</td>\n",
       "      <td>Armazém</td>\n",
       "      <td>NaN</td>\n",
       "      <td>NaN</td>\n",
       "      <td>NaN</td>\n",
       "      <td>NaN</td>\n",
       "    </tr>\n",
       "    <tr>\n",
       "      <th>4</th>\n",
       "      <td>Couve</td>\n",
       "      <td>NaN</td>\n",
       "      <td>NaN</td>\n",
       "      <td>NaN</td>\n",
       "      <td>NaN</td>\n",
       "      <td>70</td>\n",
       "      <td>Armazém</td>\n",
       "      <td>NaN</td>\n",
       "      <td>NaN</td>\n",
       "      <td>NaN</td>\n",
       "      <td>NaN</td>\n",
       "    </tr>\n",
       "  </tbody>\n",
       "</table>\n",
       "</div>"
      ],
      "text/plain": [
       "        Nome_Fruto Inverno Outono Primavera Verão Preco_Compra Local_Compra  \\\n",
       "0             Alho     NaN    NaN       NaN   NaN           40      Armazém   \n",
       "1  Arroz não moído     NaN    NaN       NaN   NaN           40      Armazém   \n",
       "2           Batata     NaN    NaN       NaN   NaN           50      Armazém   \n",
       "3         Chirívia     NaN    NaN       NaN   NaN           20      Armazém   \n",
       "4            Couve     NaN    NaN       NaN   NaN           70      Armazém   \n",
       "\n",
       "  Preco_Venda_Comum Preco_Venda_Incomum Dias_Para_Amadurecer  \\\n",
       "0               NaN                 NaN                  NaN   \n",
       "1               NaN                 NaN                  NaN   \n",
       "2               NaN                 NaN                  NaN   \n",
       "3               NaN                 NaN                  NaN   \n",
       "4               NaN                 NaN                  NaN   \n",
       "\n",
       "  Dias_Até_Colher_Novamente  \n",
       "0                       NaN  \n",
       "1                       NaN  \n",
       "2                       NaN  \n",
       "3                       NaN  \n",
       "4                       NaN  "
      ]
     },
     "execution_count": 60,
     "metadata": {},
     "output_type": "execute_result"
    }
   ],
   "source": [
    "dataframe_stardewvalley.head()"
   ]
  },
  {
   "cell_type": "code",
   "execution_count": 61,
   "metadata": {
    "ExecuteTime": {
     "end_time": "2023-11-25T02:37:56.810200600Z",
     "start_time": "2023-11-25T02:37:56.536124600Z"
    },
    "colab": {
     "base_uri": "https://localhost:8080/"
    },
    "id": "GXHLuZw8QeqV",
    "outputId": "95120fd9-981b-4018-a3b4-9508cd8a1079"
   },
   "outputs": [
    {
     "data": {
      "text/plain": [
       "Preco_Compra    0\n",
       "Local_Compra    0\n",
       "dtype: int64"
      ]
     },
     "execution_count": 61,
     "metadata": {},
     "output_type": "execute_result"
    }
   ],
   "source": [
    "dataframe_stardewvalley[[\"Preco_Compra\", \"Local_Compra\"]].isna().sum()"
   ]
  },
  {
   "cell_type": "markdown",
   "metadata": {
    "id": "wMC0xSD5CKMq"
   },
   "source": [
    "## Pegar preco venda comum, preco venda incomum e estações de crescimento"
   ]
  },
  {
   "cell_type": "code",
   "execution_count": 62,
   "metadata": {
    "ExecuteTime": {
     "end_time": "2023-11-25T02:38:22.020783700Z",
     "start_time": "2023-11-25T02:37:56.568843500Z"
    },
    "colab": {
     "base_uri": "https://localhost:8080/"
    },
    "id": "ynJNJNEtRv7p",
    "outputId": "281d4e72-ffdf-4afd-ae17-8924d2ca85bd"
   },
   "outputs": [
    {
     "name": "stdout",
     "output_type": "stream",
     "text": [
      "https://pt.stardewvalleywiki.com/Alho\n",
      "https://pt.stardewvalleywiki.com/Arroz_não_moído\n",
      "https://pt.stardewvalleywiki.com/Batata\n",
      "https://pt.stardewvalleywiki.com/Chirívia\n",
      "https://pt.stardewvalleywiki.com/Couve\n",
      "https://pt.stardewvalleywiki.com/Couve-flor\n",
      "https://pt.stardewvalleywiki.com/Grão_de_café\n",
      "https://pt.stardewvalleywiki.com/Jasmim-Azul\n",
      "https://pt.stardewvalleywiki.com/Morango\n",
      "https://pt.stardewvalleywiki.com/Ruibarbo\n",
      "https://pt.stardewvalleywiki.com/Tulipa\n",
      "https://pt.stardewvalleywiki.com/Vagem\n",
      "https://pt.stardewvalleywiki.com/Carambola\n",
      "https://pt.stardewvalleywiki.com/Flor-Miçanga\n",
      "https://pt.stardewvalleywiki.com/Girassol\n",
      "https://pt.stardewvalleywiki.com/Lúpulo\n",
      "https://pt.stardewvalleywiki.com/Melão\n",
      "https://pt.stardewvalleywiki.com/Milho\n",
      "https://pt.stardewvalleywiki.com/Mirtilo\n",
      "https://pt.stardewvalleywiki.com/Papoula\n",
      "https://pt.stardewvalleywiki.com/Pimenta_quente\n",
      "https://pt.stardewvalleywiki.com/Rabanete\n",
      "https://pt.stardewvalleywiki.com/Repolho_roxo\n",
      "https://pt.stardewvalleywiki.com/Tomate\n",
      "https://pt.stardewvalleywiki.com/Trigo\n",
      "https://pt.stardewvalleywiki.com/Abóbora\n",
      "https://pt.stardewvalleywiki.com/Alcachofra\n",
      "https://pt.stardewvalleywiki.com/Amaranto\n",
      "https://pt.stardewvalleywiki.com/Berinjela\n",
      "https://pt.stardewvalleywiki.com/Beterraba\n",
      "https://pt.stardewvalleywiki.com/Couve_chinesa\n",
      "https://pt.stardewvalleywiki.com/Inhame\n",
      "https://pt.stardewvalleywiki.com/Oxicoco\n",
      "https://pt.stardewvalleywiki.com/Rosa-de-fada\n",
      "https://pt.stardewvalleywiki.com/Uva\n"
     ]
    }
   ],
   "source": [
    "estacoes = [\"Inverno\", \"Outono\", \"Primavera\", \"Verão\"]\n",
    "\n",
    "lista_valor_venda_comum = []\n",
    "\n",
    "lista_valor_venda_incomum = []\n",
    "\n",
    "lista_valor_booleano_estacoes = []\n",
    "\n",
    "# pegar estacao aq tbm\n",
    "for nome_busca_fruto in dataframe_stardewvalley[\"Nome_Fruto\"]:\n",
    "\n",
    "  lista_elemento_valor_booleano_estacoes = [0, 0, 0, 0]\n",
    "\n",
    "  URL_sementes_especificas = f\"https://pt.stardewvalleywiki.com/{\n",
    "    nome_busca_fruto.replace(' ', '_')}\"\n",
    "\n",
    "  print(URL_sementes_especificas)\n",
    "\n",
    "  page_sementes_especificas = requests.get(URL_sementes_especificas)\n",
    "\n",
    "  soup_sementes_especificas = BeautifulSoup(\n",
    "    page_sementes_especificas.content, \"html.parser\")\n",
    "\n",
    "  results_sementes_especificas = soup_sementes_especificas.find()\n",
    "\n",
    "  tabela_valores_venda = results_sementes_especificas.find(\n",
    "    \"table\", style=\"width: 101%; margin-top: -2px; margin-left: -2px;\")\n",
    "\n",
    "  if tabela_valores_venda:\n",
    "\n",
    "    tds_valor_venda = tabela_valores_venda.find_all(\"td\")\n",
    "\n",
    "  else:\n",
    "\n",
    "    tds_valor_venda = results_sementes_especificas.find(\n",
    "      \"div\", id=\"infoboxborder\")\n",
    "\n",
    "  for td_valor_venda in tds_valor_venda:\n",
    "\n",
    "    numeros = re.findall(r'\\b(\\d+)\\souros\\b', td_valor_venda.text)\n",
    "\n",
    "    if numeros:\n",
    "\n",
    "      lista_valor_venda_comum.append(numeros[0])\n",
    "\n",
    "      lista_valor_venda_incomum.append(numeros[1])\n",
    "\n",
    "      break\n",
    "\n",
    "  div_estacoes_crescimento = results_sementes_especificas.find(\n",
    "    \"div\", id=\"infoboxborder\")\n",
    "\n",
    "  tds_estacoes_crescimento = div_estacoes_crescimento.find_all(\n",
    "    \"td\", id=\"infoboxdetail\")\n",
    "\n",
    "  for td_estacoes_crescimento in tds_estacoes_crescimento:\n",
    "\n",
    "    for i, estacao in enumerate(estacoes):\n",
    "\n",
    "      if estacao in td_estacoes_crescimento.text:\n",
    "\n",
    "        lista_elemento_valor_booleano_estacoes[i] = 1\n",
    "\n",
    "  lista_valor_booleano_estacoes.append(lista_elemento_valor_booleano_estacoes)"
   ]
  },
  {
   "cell_type": "code",
   "execution_count": 63,
   "metadata": {
    "ExecuteTime": {
     "end_time": "2023-11-25T02:38:22.037737400Z",
     "start_time": "2023-11-25T02:38:22.023774600Z"
    },
    "colab": {
     "base_uri": "https://localhost:8080/"
    },
    "id": "_ue8Ky-dY0ep",
    "outputId": "189f35cc-a293-4a3f-d46e-22a762ecb690"
   },
   "outputs": [
    {
     "data": {
      "text/plain": [
       "35"
      ]
     },
     "execution_count": 63,
     "metadata": {},
     "output_type": "execute_result"
    }
   ],
   "source": [
    "len(lista_valor_booleano_estacoes)"
   ]
  },
  {
   "cell_type": "code",
   "execution_count": 64,
   "metadata": {
    "ExecuteTime": {
     "end_time": "2023-11-25T02:38:22.047258700Z",
     "start_time": "2023-11-25T02:38:22.029757600Z"
    },
    "colab": {
     "base_uri": "https://localhost:8080/"
    },
    "id": "3qC4E3yTZdD0",
    "outputId": "4cb9a612-aaef-4281-debd-04a7949b1207"
   },
   "outputs": [
    {
     "data": {
      "text/plain": [
       "35"
      ]
     },
     "execution_count": 64,
     "metadata": {},
     "output_type": "execute_result"
    }
   ],
   "source": [
    "len(lista_valor_venda_comum)"
   ]
  },
  {
   "cell_type": "code",
   "execution_count": 65,
   "metadata": {
    "ExecuteTime": {
     "end_time": "2023-11-25T02:38:22.140224800Z",
     "start_time": "2023-11-25T02:38:22.045263400Z"
    },
    "colab": {
     "base_uri": "https://localhost:8080/"
    },
    "id": "5DgXZVS-ZhZB",
    "outputId": "304dd678-2243-4660-b9a9-f43040ce3aef"
   },
   "outputs": [
    {
     "data": {
      "text/plain": [
       "35"
      ]
     },
     "execution_count": 65,
     "metadata": {},
     "output_type": "execute_result"
    }
   ],
   "source": [
    "len(lista_valor_venda_incomum)"
   ]
  },
  {
   "cell_type": "code",
   "execution_count": 66,
   "metadata": {
    "ExecuteTime": {
     "end_time": "2023-11-25T02:38:22.142220100Z",
     "start_time": "2023-11-25T02:38:22.059696400Z"
    },
    "id": "1eBARz52Y-Mo"
   },
   "outputs": [],
   "source": [
    "lista_valor_booleano_estacoes_bool = []\n",
    "listinha = []\n",
    "for lista in lista_valor_booleano_estacoes:\n",
    "  listinha = []\n",
    "  for val in lista:\n",
    "    val_bool = bool(val)\n",
    "    listinha.append(val_bool)\n",
    "    if len(listinha) == 4:\n",
    "      lista_valor_booleano_estacoes_bool.append(listinha)"
   ]
  },
  {
   "cell_type": "code",
   "execution_count": 67,
   "metadata": {
    "ExecuteTime": {
     "end_time": "2023-11-25T02:38:22.143217300Z",
     "start_time": "2023-11-25T02:38:22.077647900Z"
    },
    "colab": {
     "base_uri": "https://localhost:8080/"
    },
    "id": "3xC6d5RB7a39",
    "outputId": "967b392f-e269-499c-d92b-6cbbf6de9ade"
   },
   "outputs": [
    {
     "data": {
      "text/plain": [
       "[[0, 0, 1, 0],\n",
       " [0, 0, 1, 0],\n",
       " [0, 0, 1, 0],\n",
       " [0, 0, 1, 0],\n",
       " [0, 0, 1, 0],\n",
       " [0, 0, 1, 0],\n",
       " [0, 0, 1, 1],\n",
       " [0, 0, 1, 0],\n",
       " [0, 0, 1, 0],\n",
       " [0, 0, 1, 0],\n",
       " [0, 0, 1, 0],\n",
       " [0, 0, 1, 0],\n",
       " [0, 0, 0, 1],\n",
       " [0, 0, 0, 1],\n",
       " [0, 1, 0, 1],\n",
       " [0, 0, 0, 1],\n",
       " [0, 0, 0, 1],\n",
       " [0, 1, 0, 1],\n",
       " [0, 0, 0, 1],\n",
       " [0, 0, 0, 1],\n",
       " [0, 0, 0, 1],\n",
       " [0, 0, 0, 1],\n",
       " [0, 0, 0, 1],\n",
       " [0, 0, 0, 1],\n",
       " [0, 1, 0, 1],\n",
       " [0, 1, 0, 0],\n",
       " [0, 1, 0, 0],\n",
       " [0, 1, 0, 0],\n",
       " [0, 1, 0, 0],\n",
       " [0, 1, 0, 0],\n",
       " [0, 1, 0, 0],\n",
       " [0, 1, 0, 0],\n",
       " [0, 1, 0, 0],\n",
       " [0, 1, 0, 0],\n",
       " [0, 1, 0, 1]]"
      ]
     },
     "execution_count": 67,
     "metadata": {},
     "output_type": "execute_result"
    }
   ],
   "source": [
    "lista_valor_booleano_estacoes"
   ]
  },
  {
   "cell_type": "code",
   "execution_count": 68,
   "metadata": {
    "ExecuteTime": {
     "end_time": "2023-11-25T02:38:22.144214300Z",
     "start_time": "2023-11-25T02:38:22.098480600Z"
    },
    "colab": {
     "base_uri": "https://localhost:8080/"
    },
    "id": "arISfs9p5JC7",
    "outputId": "80fdf20b-6a42-4fa3-99fa-92bbd099aafd"
   },
   "outputs": [
    {
     "data": {
      "text/plain": [
       "[[False, False, True, False],\n",
       " [False, False, True, False],\n",
       " [False, False, True, False],\n",
       " [False, False, True, False],\n",
       " [False, False, True, False],\n",
       " [False, False, True, False],\n",
       " [False, False, True, True],\n",
       " [False, False, True, False],\n",
       " [False, False, True, False],\n",
       " [False, False, True, False],\n",
       " [False, False, True, False],\n",
       " [False, False, True, False],\n",
       " [False, False, False, True],\n",
       " [False, False, False, True],\n",
       " [False, True, False, True],\n",
       " [False, False, False, True],\n",
       " [False, False, False, True],\n",
       " [False, True, False, True],\n",
       " [False, False, False, True],\n",
       " [False, False, False, True],\n",
       " [False, False, False, True],\n",
       " [False, False, False, True],\n",
       " [False, False, False, True],\n",
       " [False, False, False, True],\n",
       " [False, True, False, True],\n",
       " [False, True, False, False],\n",
       " [False, True, False, False],\n",
       " [False, True, False, False],\n",
       " [False, True, False, False],\n",
       " [False, True, False, False],\n",
       " [False, True, False, False],\n",
       " [False, True, False, False],\n",
       " [False, True, False, False],\n",
       " [False, True, False, False],\n",
       " [False, True, False, True]]"
      ]
     },
     "execution_count": 68,
     "metadata": {},
     "output_type": "execute_result"
    }
   ],
   "source": [
    "lista_valor_booleano_estacoes_bool"
   ]
  },
  {
   "cell_type": "code",
   "execution_count": 69,
   "metadata": {
    "ExecuteTime": {
     "end_time": "2023-11-25T02:38:22.282837400Z",
     "start_time": "2023-11-25T02:38:22.115291900Z"
    },
    "id": "oj7qojhLZHXP"
   },
   "outputs": [],
   "source": [
    "for i, linha in enumerate(lista_valor_booleano_estacoes):\n",
    "  dataframe_stardewvalley.loc[i, [\"Inverno\",\n",
    "                                  \"Outono\", \"Primavera\", \"Verão\"]] = linha"
   ]
  },
  {
   "cell_type": "code",
   "execution_count": 70,
   "metadata": {
    "ExecuteTime": {
     "end_time": "2023-11-25T02:38:22.309997800Z",
     "start_time": "2023-11-25T02:38:22.169000900Z"
    },
    "colab": {
     "base_uri": "https://localhost:8080/",
     "height": 243
    },
    "id": "B1D_IF_Yh9eT",
    "outputId": "cc4acb8b-b20f-467d-b825-d8ec1d561e83"
   },
   "outputs": [
    {
     "data": {
      "text/html": [
       "<div>\n",
       "<style scoped>\n",
       "    .dataframe tbody tr th:only-of-type {\n",
       "        vertical-align: middle;\n",
       "    }\n",
       "\n",
       "    .dataframe tbody tr th {\n",
       "        vertical-align: top;\n",
       "    }\n",
       "\n",
       "    .dataframe thead th {\n",
       "        text-align: right;\n",
       "    }\n",
       "</style>\n",
       "<table border=\"1\" class=\"dataframe\">\n",
       "  <thead>\n",
       "    <tr style=\"text-align: right;\">\n",
       "      <th></th>\n",
       "      <th>Nome_Fruto</th>\n",
       "      <th>Inverno</th>\n",
       "      <th>Outono</th>\n",
       "      <th>Primavera</th>\n",
       "      <th>Verão</th>\n",
       "      <th>Preco_Compra</th>\n",
       "      <th>Local_Compra</th>\n",
       "      <th>Preco_Venda_Comum</th>\n",
       "      <th>Preco_Venda_Incomum</th>\n",
       "      <th>Dias_Para_Amadurecer</th>\n",
       "      <th>Dias_Até_Colher_Novamente</th>\n",
       "    </tr>\n",
       "  </thead>\n",
       "  <tbody>\n",
       "    <tr>\n",
       "      <th>0</th>\n",
       "      <td>Alho</td>\n",
       "      <td>0</td>\n",
       "      <td>0</td>\n",
       "      <td>1</td>\n",
       "      <td>0</td>\n",
       "      <td>40</td>\n",
       "      <td>Armazém</td>\n",
       "      <td>NaN</td>\n",
       "      <td>NaN</td>\n",
       "      <td>NaN</td>\n",
       "      <td>NaN</td>\n",
       "    </tr>\n",
       "    <tr>\n",
       "      <th>1</th>\n",
       "      <td>Arroz não moído</td>\n",
       "      <td>0</td>\n",
       "      <td>0</td>\n",
       "      <td>1</td>\n",
       "      <td>0</td>\n",
       "      <td>40</td>\n",
       "      <td>Armazém</td>\n",
       "      <td>NaN</td>\n",
       "      <td>NaN</td>\n",
       "      <td>NaN</td>\n",
       "      <td>NaN</td>\n",
       "    </tr>\n",
       "    <tr>\n",
       "      <th>2</th>\n",
       "      <td>Batata</td>\n",
       "      <td>0</td>\n",
       "      <td>0</td>\n",
       "      <td>1</td>\n",
       "      <td>0</td>\n",
       "      <td>50</td>\n",
       "      <td>Armazém</td>\n",
       "      <td>NaN</td>\n",
       "      <td>NaN</td>\n",
       "      <td>NaN</td>\n",
       "      <td>NaN</td>\n",
       "    </tr>\n",
       "    <tr>\n",
       "      <th>3</th>\n",
       "      <td>Chirívia</td>\n",
       "      <td>0</td>\n",
       "      <td>0</td>\n",
       "      <td>1</td>\n",
       "      <td>0</td>\n",
       "      <td>20</td>\n",
       "      <td>Armazém</td>\n",
       "      <td>NaN</td>\n",
       "      <td>NaN</td>\n",
       "      <td>NaN</td>\n",
       "      <td>NaN</td>\n",
       "    </tr>\n",
       "    <tr>\n",
       "      <th>4</th>\n",
       "      <td>Couve</td>\n",
       "      <td>0</td>\n",
       "      <td>0</td>\n",
       "      <td>1</td>\n",
       "      <td>0</td>\n",
       "      <td>70</td>\n",
       "      <td>Armazém</td>\n",
       "      <td>NaN</td>\n",
       "      <td>NaN</td>\n",
       "      <td>NaN</td>\n",
       "      <td>NaN</td>\n",
       "    </tr>\n",
       "  </tbody>\n",
       "</table>\n",
       "</div>"
      ],
      "text/plain": [
       "        Nome_Fruto Inverno Outono Primavera Verão Preco_Compra Local_Compra  \\\n",
       "0             Alho       0      0         1     0           40      Armazém   \n",
       "1  Arroz não moído       0      0         1     0           40      Armazém   \n",
       "2           Batata       0      0         1     0           50      Armazém   \n",
       "3         Chirívia       0      0         1     0           20      Armazém   \n",
       "4            Couve       0      0         1     0           70      Armazém   \n",
       "\n",
       "  Preco_Venda_Comum Preco_Venda_Incomum Dias_Para_Amadurecer  \\\n",
       "0               NaN                 NaN                  NaN   \n",
       "1               NaN                 NaN                  NaN   \n",
       "2               NaN                 NaN                  NaN   \n",
       "3               NaN                 NaN                  NaN   \n",
       "4               NaN                 NaN                  NaN   \n",
       "\n",
       "  Dias_Até_Colher_Novamente  \n",
       "0                       NaN  \n",
       "1                       NaN  \n",
       "2                       NaN  \n",
       "3                       NaN  \n",
       "4                       NaN  "
      ]
     },
     "execution_count": 70,
     "metadata": {},
     "output_type": "execute_result"
    }
   ],
   "source": [
    "dataframe_stardewvalley.head()"
   ]
  },
  {
   "cell_type": "code",
   "execution_count": 71,
   "metadata": {
    "ExecuteTime": {
     "end_time": "2023-11-25T02:38:22.310995400Z",
     "start_time": "2023-11-25T02:38:22.184957600Z"
    },
    "colab": {
     "base_uri": "https://localhost:8080/"
    },
    "id": "oaitZYRwiA6I",
    "outputId": "eaf488de-588d-4cb1-cb2a-6030e31e240d"
   },
   "outputs": [
    {
     "data": {
      "text/plain": [
       "Inverno      0\n",
       "Outono       0\n",
       "Primavera    0\n",
       "Verão        0\n",
       "dtype: int64"
      ]
     },
     "execution_count": 71,
     "metadata": {},
     "output_type": "execute_result"
    }
   ],
   "source": [
    "dataframe_stardewvalley[[\"Inverno\", \"Outono\",\n",
    "                         \"Primavera\", \"Verão\"]].isna().sum()"
   ]
  },
  {
   "cell_type": "code",
   "execution_count": 72,
   "metadata": {
    "ExecuteTime": {
     "end_time": "2023-11-25T02:38:22.311992500Z",
     "start_time": "2023-11-25T02:38:22.201583700Z"
    },
    "colab": {
     "base_uri": "https://localhost:8080/"
    },
    "id": "IfEekZVPiFR6",
    "outputId": "0ef8881b-cd98-4fdd-b48e-dc0490f51135"
   },
   "outputs": [
    {
     "data": {
      "text/plain": [
       "['60',\n",
       " '30',\n",
       " '80',\n",
       " '35',\n",
       " '110',\n",
       " '175',\n",
       " '15',\n",
       " '50',\n",
       " '120',\n",
       " '220',\n",
       " '30',\n",
       " '40',\n",
       " '750',\n",
       " '90',\n",
       " '80',\n",
       " '25',\n",
       " '250',\n",
       " '50',\n",
       " '50',\n",
       " '140',\n",
       " '40',\n",
       " '90',\n",
       " '260',\n",
       " '60',\n",
       " '25',\n",
       " '320',\n",
       " '160',\n",
       " '150',\n",
       " '60',\n",
       " '100',\n",
       " '80',\n",
       " '160',\n",
       " '75',\n",
       " '290',\n",
       " '80']"
      ]
     },
     "execution_count": 72,
     "metadata": {},
     "output_type": "execute_result"
    }
   ],
   "source": [
    "lista_valor_venda_comum"
   ]
  },
  {
   "cell_type": "code",
   "execution_count": 73,
   "metadata": {
    "ExecuteTime": {
     "end_time": "2023-11-25T02:38:22.314984500Z",
     "start_time": "2023-11-25T02:38:22.217540700Z"
    },
    "id": "hC5cQSIQiKy1"
   },
   "outputs": [],
   "source": [
    "dataframe_stardewvalley[\"Preco_Venda_Comum\"] = lista_valor_venda_comum"
   ]
  },
  {
   "cell_type": "code",
   "execution_count": 74,
   "metadata": {
    "ExecuteTime": {
     "end_time": "2023-11-25T02:38:22.333463200Z",
     "start_time": "2023-11-25T02:38:22.231251400Z"
    },
    "colab": {
     "base_uri": "https://localhost:8080/"
    },
    "id": "pPjclGVaiT1U",
    "outputId": "d2546566-a0ca-40b5-953d-5618a8965ec5"
   },
   "outputs": [
    {
     "data": {
      "text/plain": [
       "0"
      ]
     },
     "execution_count": 74,
     "metadata": {},
     "output_type": "execute_result"
    }
   ],
   "source": [
    "dataframe_stardewvalley[\"Preco_Venda_Comum\"].isna().sum()"
   ]
  },
  {
   "cell_type": "code",
   "execution_count": 75,
   "metadata": {
    "ExecuteTime": {
     "end_time": "2023-11-25T02:38:22.334460700Z",
     "start_time": "2023-11-25T02:38:22.253998700Z"
    },
    "colab": {
     "base_uri": "https://localhost:8080/"
    },
    "id": "rJFjeTA_ib_P",
    "outputId": "8a06ffb4-47e6-4751-f195-6e7bfbda9a7d"
   },
   "outputs": [
    {
     "data": {
      "text/plain": [
       "['75',\n",
       " '37',\n",
       " '100',\n",
       " '43',\n",
       " '137',\n",
       " '218',\n",
       " '18',\n",
       " '62',\n",
       " '150',\n",
       " '275',\n",
       " '37',\n",
       " '50',\n",
       " '937',\n",
       " '112',\n",
       " '100',\n",
       " '31',\n",
       " '312',\n",
       " '62',\n",
       " '62',\n",
       " '175',\n",
       " '50',\n",
       " '112',\n",
       " '325',\n",
       " '75',\n",
       " '31',\n",
       " '400',\n",
       " '200',\n",
       " '187',\n",
       " '75',\n",
       " '125',\n",
       " '100',\n",
       " '200',\n",
       " '93',\n",
       " '362',\n",
       " '100']"
      ]
     },
     "execution_count": 75,
     "metadata": {},
     "output_type": "execute_result"
    }
   ],
   "source": [
    "lista_valor_venda_incomum"
   ]
  },
  {
   "cell_type": "code",
   "execution_count": 76,
   "metadata": {
    "ExecuteTime": {
     "end_time": "2023-11-25T02:38:22.351415200Z",
     "start_time": "2023-11-25T02:38:22.279845400Z"
    },
    "id": "mOmx7FzsiXr9"
   },
   "outputs": [],
   "source": [
    "dataframe_stardewvalley[\"Preco_Venda_Incomum\"] = lista_valor_venda_incomum"
   ]
  },
  {
   "cell_type": "code",
   "execution_count": 77,
   "metadata": {
    "ExecuteTime": {
     "end_time": "2023-11-25T02:38:22.520643700Z",
     "start_time": "2023-11-25T02:38:22.299027200Z"
    },
    "colab": {
     "base_uri": "https://localhost:8080/"
    },
    "id": "Dy4dzWx7id3z",
    "outputId": "437a2103-1b02-4a62-abc8-c1c3c1310fb8"
   },
   "outputs": [
    {
     "data": {
      "text/plain": [
       "0"
      ]
     },
     "execution_count": 77,
     "metadata": {},
     "output_type": "execute_result"
    }
   ],
   "source": [
    "dataframe_stardewvalley[\"Preco_Venda_Incomum\"].isna().sum()"
   ]
  },
  {
   "cell_type": "code",
   "execution_count": 78,
   "metadata": {
    "ExecuteTime": {
     "end_time": "2023-11-25T02:38:22.606775400Z",
     "start_time": "2023-11-25T02:38:22.324487300Z"
    },
    "colab": {
     "base_uri": "https://localhost:8080/",
     "height": 243
    },
    "id": "R2W92dcaigiW",
    "outputId": "ecd0497b-7f10-408d-cc1a-fd6e6693e326"
   },
   "outputs": [
    {
     "data": {
      "text/html": [
       "<div>\n",
       "<style scoped>\n",
       "    .dataframe tbody tr th:only-of-type {\n",
       "        vertical-align: middle;\n",
       "    }\n",
       "\n",
       "    .dataframe tbody tr th {\n",
       "        vertical-align: top;\n",
       "    }\n",
       "\n",
       "    .dataframe thead th {\n",
       "        text-align: right;\n",
       "    }\n",
       "</style>\n",
       "<table border=\"1\" class=\"dataframe\">\n",
       "  <thead>\n",
       "    <tr style=\"text-align: right;\">\n",
       "      <th></th>\n",
       "      <th>Nome_Fruto</th>\n",
       "      <th>Inverno</th>\n",
       "      <th>Outono</th>\n",
       "      <th>Primavera</th>\n",
       "      <th>Verão</th>\n",
       "      <th>Preco_Compra</th>\n",
       "      <th>Local_Compra</th>\n",
       "      <th>Preco_Venda_Comum</th>\n",
       "      <th>Preco_Venda_Incomum</th>\n",
       "      <th>Dias_Para_Amadurecer</th>\n",
       "      <th>Dias_Até_Colher_Novamente</th>\n",
       "    </tr>\n",
       "  </thead>\n",
       "  <tbody>\n",
       "    <tr>\n",
       "      <th>0</th>\n",
       "      <td>Alho</td>\n",
       "      <td>0</td>\n",
       "      <td>0</td>\n",
       "      <td>1</td>\n",
       "      <td>0</td>\n",
       "      <td>40</td>\n",
       "      <td>Armazém</td>\n",
       "      <td>60</td>\n",
       "      <td>75</td>\n",
       "      <td>NaN</td>\n",
       "      <td>NaN</td>\n",
       "    </tr>\n",
       "    <tr>\n",
       "      <th>1</th>\n",
       "      <td>Arroz não moído</td>\n",
       "      <td>0</td>\n",
       "      <td>0</td>\n",
       "      <td>1</td>\n",
       "      <td>0</td>\n",
       "      <td>40</td>\n",
       "      <td>Armazém</td>\n",
       "      <td>30</td>\n",
       "      <td>37</td>\n",
       "      <td>NaN</td>\n",
       "      <td>NaN</td>\n",
       "    </tr>\n",
       "    <tr>\n",
       "      <th>2</th>\n",
       "      <td>Batata</td>\n",
       "      <td>0</td>\n",
       "      <td>0</td>\n",
       "      <td>1</td>\n",
       "      <td>0</td>\n",
       "      <td>50</td>\n",
       "      <td>Armazém</td>\n",
       "      <td>80</td>\n",
       "      <td>100</td>\n",
       "      <td>NaN</td>\n",
       "      <td>NaN</td>\n",
       "    </tr>\n",
       "    <tr>\n",
       "      <th>3</th>\n",
       "      <td>Chirívia</td>\n",
       "      <td>0</td>\n",
       "      <td>0</td>\n",
       "      <td>1</td>\n",
       "      <td>0</td>\n",
       "      <td>20</td>\n",
       "      <td>Armazém</td>\n",
       "      <td>35</td>\n",
       "      <td>43</td>\n",
       "      <td>NaN</td>\n",
       "      <td>NaN</td>\n",
       "    </tr>\n",
       "    <tr>\n",
       "      <th>4</th>\n",
       "      <td>Couve</td>\n",
       "      <td>0</td>\n",
       "      <td>0</td>\n",
       "      <td>1</td>\n",
       "      <td>0</td>\n",
       "      <td>70</td>\n",
       "      <td>Armazém</td>\n",
       "      <td>110</td>\n",
       "      <td>137</td>\n",
       "      <td>NaN</td>\n",
       "      <td>NaN</td>\n",
       "    </tr>\n",
       "  </tbody>\n",
       "</table>\n",
       "</div>"
      ],
      "text/plain": [
       "        Nome_Fruto Inverno Outono Primavera Verão Preco_Compra Local_Compra  \\\n",
       "0             Alho       0      0         1     0           40      Armazém   \n",
       "1  Arroz não moído       0      0         1     0           40      Armazém   \n",
       "2           Batata       0      0         1     0           50      Armazém   \n",
       "3         Chirívia       0      0         1     0           20      Armazém   \n",
       "4            Couve       0      0         1     0           70      Armazém   \n",
       "\n",
       "  Preco_Venda_Comum Preco_Venda_Incomum Dias_Para_Amadurecer  \\\n",
       "0                60                  75                  NaN   \n",
       "1                30                  37                  NaN   \n",
       "2                80                 100                  NaN   \n",
       "3                35                  43                  NaN   \n",
       "4               110                 137                  NaN   \n",
       "\n",
       "  Dias_Até_Colher_Novamente  \n",
       "0                       NaN  \n",
       "1                       NaN  \n",
       "2                       NaN  \n",
       "3                       NaN  \n",
       "4                       NaN  "
      ]
     },
     "execution_count": 78,
     "metadata": {},
     "output_type": "execute_result"
    }
   ],
   "source": [
    "dataframe_stardewvalley.head()"
   ]
  },
  {
   "cell_type": "markdown",
   "metadata": {
    "id": "alMKt0XpjHMo"
   },
   "source": [
    "## Pegar quantidade de dias para amadurecer"
   ]
  },
  {
   "cell_type": "code",
   "execution_count": 79,
   "metadata": {
    "ExecuteTime": {
     "end_time": "2023-11-25T02:38:22.607773100Z",
     "start_time": "2023-11-25T02:38:22.358585100Z"
    },
    "id": "gi2dIrY6jVtg"
   },
   "outputs": [],
   "source": [
    "padrao_dias_amadurecimento = r'Total: (\\d+(-\\d+)?\\sDias)'\n",
    "\n",
    "lista_dias_amadurecimento = []\n",
    "\n",
    "i = 0\n",
    "\n",
    "for fruto_quadro in frutos_quadros:\n",
    "\n",
    "  dicionario_dias_amadurecimento = {}\n",
    "\n",
    "  if i > 34:\n",
    "\n",
    "    break\n",
    "\n",
    "  infos = fruto_quadro.find_all(\"td\")\n",
    "\n",
    "  for info in infos:\n",
    "\n",
    "    info_apenas_texto = info.get_text()\n",
    "\n",
    "    matches = re.findall(padrao_dias_amadurecimento, info_apenas_texto)\n",
    "\n",
    "    if matches:\n",
    "\n",
    "      dias = matches[0][0]\n",
    "\n",
    "      if '-' in dias:\n",
    "\n",
    "        dias = dias.split('-')[1]\n",
    "\n",
    "      dicionario_dias_amadurecimento[i] = int(\n",
    "        re.search(r'(\\d+)', dias).group())\n",
    "\n",
    "      lista_dias_amadurecimento.append(dicionario_dias_amadurecimento)\n",
    "\n",
    "  i += 1"
   ]
  },
  {
   "cell_type": "code",
   "execution_count": 80,
   "metadata": {
    "ExecuteTime": {
     "end_time": "2023-11-25T02:38:22.610764800Z",
     "start_time": "2023-11-25T02:38:22.386509500Z"
    },
    "colab": {
     "base_uri": "https://localhost:8080/"
    },
    "id": "E5qH1r9xjl93",
    "outputId": "fc451323-882d-4ecb-dd63-aec4ee43262c"
   },
   "outputs": [
    {
     "data": {
      "text/plain": [
       "[{0: 4},\n",
       " {1: 8},\n",
       " {2: 6},\n",
       " {3: 4},\n",
       " {4: 6},\n",
       " {5: 12},\n",
       " {6: 10},\n",
       " {7: 7},\n",
       " {8: 8},\n",
       " {9: 13},\n",
       " {10: 6},\n",
       " {11: 10},\n",
       " {12: 13},\n",
       " {13: 8},\n",
       " {14: 8},\n",
       " {15: 11},\n",
       " {16: 12},\n",
       " {17: 14},\n",
       " {18: 13},\n",
       " {19: 7},\n",
       " {20: 5},\n",
       " {21: 6},\n",
       " {22: 9},\n",
       " {23: 11},\n",
       " {24: 4},\n",
       " {25: 13},\n",
       " {26: 8},\n",
       " {27: 7},\n",
       " {28: 5},\n",
       " {29: 6},\n",
       " {30: 4},\n",
       " {31: 10},\n",
       " {32: 7},\n",
       " {33: 12},\n",
       " {34: 10}]"
      ]
     },
     "execution_count": 80,
     "metadata": {},
     "output_type": "execute_result"
    }
   ],
   "source": [
    "lista_dias_amadurecimento"
   ]
  },
  {
   "cell_type": "code",
   "execution_count": 81,
   "metadata": {
    "ExecuteTime": {
     "end_time": "2023-11-25T02:38:22.655044Z",
     "start_time": "2023-11-25T02:38:22.399456700Z"
    },
    "id": "ENfvdiJhpMTE"
   },
   "outputs": [],
   "source": [
    "for elementos in lista_dias_amadurecimento:\n",
    "  dataframe_stardewvalley.loc[elementos.keys(\n",
    "  ), 'Dias_Para_Amadurecer'] = list(elementos.values())[0]"
   ]
  },
  {
   "cell_type": "code",
   "execution_count": 82,
   "metadata": {
    "ExecuteTime": {
     "end_time": "2023-11-25T02:38:22.667014500Z",
     "start_time": "2023-11-25T02:38:22.459034700Z"
    },
    "colab": {
     "base_uri": "https://localhost:8080/",
     "height": 243
    },
    "id": "BcJsHBCiqUR2",
    "outputId": "b17342e6-9ed5-4765-9e9e-a28fc3464736"
   },
   "outputs": [
    {
     "data": {
      "text/html": [
       "<div>\n",
       "<style scoped>\n",
       "    .dataframe tbody tr th:only-of-type {\n",
       "        vertical-align: middle;\n",
       "    }\n",
       "\n",
       "    .dataframe tbody tr th {\n",
       "        vertical-align: top;\n",
       "    }\n",
       "\n",
       "    .dataframe thead th {\n",
       "        text-align: right;\n",
       "    }\n",
       "</style>\n",
       "<table border=\"1\" class=\"dataframe\">\n",
       "  <thead>\n",
       "    <tr style=\"text-align: right;\">\n",
       "      <th></th>\n",
       "      <th>Nome_Fruto</th>\n",
       "      <th>Inverno</th>\n",
       "      <th>Outono</th>\n",
       "      <th>Primavera</th>\n",
       "      <th>Verão</th>\n",
       "      <th>Preco_Compra</th>\n",
       "      <th>Local_Compra</th>\n",
       "      <th>Preco_Venda_Comum</th>\n",
       "      <th>Preco_Venda_Incomum</th>\n",
       "      <th>Dias_Para_Amadurecer</th>\n",
       "      <th>Dias_Até_Colher_Novamente</th>\n",
       "    </tr>\n",
       "  </thead>\n",
       "  <tbody>\n",
       "    <tr>\n",
       "      <th>0</th>\n",
       "      <td>Alho</td>\n",
       "      <td>0</td>\n",
       "      <td>0</td>\n",
       "      <td>1</td>\n",
       "      <td>0</td>\n",
       "      <td>40</td>\n",
       "      <td>Armazém</td>\n",
       "      <td>60</td>\n",
       "      <td>75</td>\n",
       "      <td>4</td>\n",
       "      <td>NaN</td>\n",
       "    </tr>\n",
       "    <tr>\n",
       "      <th>1</th>\n",
       "      <td>Arroz não moído</td>\n",
       "      <td>0</td>\n",
       "      <td>0</td>\n",
       "      <td>1</td>\n",
       "      <td>0</td>\n",
       "      <td>40</td>\n",
       "      <td>Armazém</td>\n",
       "      <td>30</td>\n",
       "      <td>37</td>\n",
       "      <td>8</td>\n",
       "      <td>NaN</td>\n",
       "    </tr>\n",
       "    <tr>\n",
       "      <th>2</th>\n",
       "      <td>Batata</td>\n",
       "      <td>0</td>\n",
       "      <td>0</td>\n",
       "      <td>1</td>\n",
       "      <td>0</td>\n",
       "      <td>50</td>\n",
       "      <td>Armazém</td>\n",
       "      <td>80</td>\n",
       "      <td>100</td>\n",
       "      <td>6</td>\n",
       "      <td>NaN</td>\n",
       "    </tr>\n",
       "    <tr>\n",
       "      <th>3</th>\n",
       "      <td>Chirívia</td>\n",
       "      <td>0</td>\n",
       "      <td>0</td>\n",
       "      <td>1</td>\n",
       "      <td>0</td>\n",
       "      <td>20</td>\n",
       "      <td>Armazém</td>\n",
       "      <td>35</td>\n",
       "      <td>43</td>\n",
       "      <td>4</td>\n",
       "      <td>NaN</td>\n",
       "    </tr>\n",
       "    <tr>\n",
       "      <th>4</th>\n",
       "      <td>Couve</td>\n",
       "      <td>0</td>\n",
       "      <td>0</td>\n",
       "      <td>1</td>\n",
       "      <td>0</td>\n",
       "      <td>70</td>\n",
       "      <td>Armazém</td>\n",
       "      <td>110</td>\n",
       "      <td>137</td>\n",
       "      <td>6</td>\n",
       "      <td>NaN</td>\n",
       "    </tr>\n",
       "  </tbody>\n",
       "</table>\n",
       "</div>"
      ],
      "text/plain": [
       "        Nome_Fruto Inverno Outono Primavera Verão Preco_Compra Local_Compra  \\\n",
       "0             Alho       0      0         1     0           40      Armazém   \n",
       "1  Arroz não moído       0      0         1     0           40      Armazém   \n",
       "2           Batata       0      0         1     0           50      Armazém   \n",
       "3         Chirívia       0      0         1     0           20      Armazém   \n",
       "4            Couve       0      0         1     0           70      Armazém   \n",
       "\n",
       "  Preco_Venda_Comum Preco_Venda_Incomum Dias_Para_Amadurecer  \\\n",
       "0                60                  75                    4   \n",
       "1                30                  37                    8   \n",
       "2                80                 100                    6   \n",
       "3                35                  43                    4   \n",
       "4               110                 137                    6   \n",
       "\n",
       "  Dias_Até_Colher_Novamente  \n",
       "0                       NaN  \n",
       "1                       NaN  \n",
       "2                       NaN  \n",
       "3                       NaN  \n",
       "4                       NaN  "
      ]
     },
     "execution_count": 82,
     "metadata": {},
     "output_type": "execute_result"
    }
   ],
   "source": [
    "dataframe_stardewvalley.head()"
   ]
  },
  {
   "cell_type": "code",
   "execution_count": 83,
   "metadata": {
    "ExecuteTime": {
     "end_time": "2023-11-25T02:38:22.668009500Z",
     "start_time": "2023-11-25T02:38:22.484339600Z"
    },
    "colab": {
     "base_uri": "https://localhost:8080/"
    },
    "id": "uwIxr4SkqubL",
    "outputId": "ad823b57-ebba-4431-e1bd-89cc4a7a97dd"
   },
   "outputs": [
    {
     "data": {
      "text/plain": [
       "0"
      ]
     },
     "execution_count": 83,
     "metadata": {},
     "output_type": "execute_result"
    }
   ],
   "source": [
    "dataframe_stardewvalley['Dias_Para_Amadurecer'].isna().sum()"
   ]
  },
  {
   "cell_type": "markdown",
   "metadata": {
    "id": "g5MeIq2RqynK"
   },
   "source": [
    "## Pegar quantidade de dias até colher novamente"
   ]
  },
  {
   "cell_type": "code",
   "execution_count": 84,
   "metadata": {
    "ExecuteTime": {
     "end_time": "2023-11-25T02:38:22.727145700Z",
     "start_time": "2023-11-25T02:38:22.502693300Z"
    },
    "colab": {
     "base_uri": "https://localhost:8080/"
    },
    "id": "EGlXjyTQq2Bg",
    "outputId": "4f2a67c0-9169-42ea-e8f6-97f9911c66a6"
   },
   "outputs": [
    {
     "name": "stdout",
     "output_type": "stream",
     "text": [
      "[{6: '2'}, {8: '4'}, {11: '3'}, {15: '1'}, {17: '4'}, {18: '4'}, {20: '3'}, {23: '4'}, {28: '5'}, {32: '5'}, {34: '3'}]\n"
     ]
    }
   ],
   "source": [
    "padrao_dias_colher_novamente = r'Continua aproduzir (a cada (\\d+) dias|todo dia)'\n",
    "\n",
    "lista_dias_colher_novamente = []\n",
    "\n",
    "i = 0\n",
    "\n",
    "for fruto_quadro in frutos_quadros:\n",
    "\n",
    "  dicionario_dias_colher_novamente = {}\n",
    "\n",
    "  if i > 34:\n",
    "\n",
    "    break\n",
    "\n",
    "  infos = fruto_quadro.find_all(\"td\")\n",
    "\n",
    "  for info in infos:\n",
    "\n",
    "    info_apenas_texto = str(info.get_text())\n",
    "\n",
    "    matches = re.findall(padrao_dias_colher_novamente, info_apenas_texto)\n",
    "\n",
    "    if matches:\n",
    "\n",
    "      if matches[0][1]:\n",
    "\n",
    "        dias = matches[0][1]\n",
    "\n",
    "      else:\n",
    "\n",
    "        dias = '1' if matches[0][0] == 'todo dia' else matches[0][0]\n",
    "\n",
    "      dicionario_dias_colher_novamente[i] = dias\n",
    "\n",
    "      lista_dias_colher_novamente.append(dicionario_dias_colher_novamente)\n",
    "\n",
    "  i += 1\n",
    "\n",
    "print(lista_dias_colher_novamente)"
   ]
  },
  {
   "cell_type": "code",
   "execution_count": 85,
   "metadata": {
    "ExecuteTime": {
     "end_time": "2023-11-25T02:38:22.887616400Z",
     "start_time": "2023-11-25T02:38:22.549159700Z"
    },
    "id": "RvMltd3wtqMw"
   },
   "outputs": [],
   "source": [
    "for elementos in lista_dias_colher_novamente:\n",
    "  dataframe_stardewvalley.loc[elementos.keys(\n",
    "  ), 'Dias_Até_Colher_Novamente'] = list(elementos.values())[0]"
   ]
  },
  {
   "cell_type": "code",
   "execution_count": 86,
   "metadata": {
    "ExecuteTime": {
     "end_time": "2023-11-25T02:38:22.980198300Z",
     "start_time": "2023-11-25T02:38:22.578849700Z"
    },
    "colab": {
     "base_uri": "https://localhost:8080/",
     "height": 1000
    },
    "id": "uPWMcEm9t3Zx",
    "outputId": "53ff1166-6c42-45f4-dd59-8664a9463ccd"
   },
   "outputs": [
    {
     "data": {
      "text/html": [
       "<div>\n",
       "<style scoped>\n",
       "    .dataframe tbody tr th:only-of-type {\n",
       "        vertical-align: middle;\n",
       "    }\n",
       "\n",
       "    .dataframe tbody tr th {\n",
       "        vertical-align: top;\n",
       "    }\n",
       "\n",
       "    .dataframe thead th {\n",
       "        text-align: right;\n",
       "    }\n",
       "</style>\n",
       "<table border=\"1\" class=\"dataframe\">\n",
       "  <thead>\n",
       "    <tr style=\"text-align: right;\">\n",
       "      <th></th>\n",
       "      <th>Nome_Fruto</th>\n",
       "      <th>Inverno</th>\n",
       "      <th>Outono</th>\n",
       "      <th>Primavera</th>\n",
       "      <th>Verão</th>\n",
       "      <th>Preco_Compra</th>\n",
       "      <th>Local_Compra</th>\n",
       "      <th>Preco_Venda_Comum</th>\n",
       "      <th>Preco_Venda_Incomum</th>\n",
       "      <th>Dias_Para_Amadurecer</th>\n",
       "      <th>Dias_Até_Colher_Novamente</th>\n",
       "    </tr>\n",
       "  </thead>\n",
       "  <tbody>\n",
       "    <tr>\n",
       "      <th>0</th>\n",
       "      <td>Alho</td>\n",
       "      <td>0</td>\n",
       "      <td>0</td>\n",
       "      <td>1</td>\n",
       "      <td>0</td>\n",
       "      <td>40</td>\n",
       "      <td>Armazém</td>\n",
       "      <td>60</td>\n",
       "      <td>75</td>\n",
       "      <td>4</td>\n",
       "      <td>NaN</td>\n",
       "    </tr>\n",
       "    <tr>\n",
       "      <th>1</th>\n",
       "      <td>Arroz não moído</td>\n",
       "      <td>0</td>\n",
       "      <td>0</td>\n",
       "      <td>1</td>\n",
       "      <td>0</td>\n",
       "      <td>40</td>\n",
       "      <td>Armazém</td>\n",
       "      <td>30</td>\n",
       "      <td>37</td>\n",
       "      <td>8</td>\n",
       "      <td>NaN</td>\n",
       "    </tr>\n",
       "    <tr>\n",
       "      <th>2</th>\n",
       "      <td>Batata</td>\n",
       "      <td>0</td>\n",
       "      <td>0</td>\n",
       "      <td>1</td>\n",
       "      <td>0</td>\n",
       "      <td>50</td>\n",
       "      <td>Armazém</td>\n",
       "      <td>80</td>\n",
       "      <td>100</td>\n",
       "      <td>6</td>\n",
       "      <td>NaN</td>\n",
       "    </tr>\n",
       "    <tr>\n",
       "      <th>3</th>\n",
       "      <td>Chirívia</td>\n",
       "      <td>0</td>\n",
       "      <td>0</td>\n",
       "      <td>1</td>\n",
       "      <td>0</td>\n",
       "      <td>20</td>\n",
       "      <td>Armazém</td>\n",
       "      <td>35</td>\n",
       "      <td>43</td>\n",
       "      <td>4</td>\n",
       "      <td>NaN</td>\n",
       "    </tr>\n",
       "    <tr>\n",
       "      <th>4</th>\n",
       "      <td>Couve</td>\n",
       "      <td>0</td>\n",
       "      <td>0</td>\n",
       "      <td>1</td>\n",
       "      <td>0</td>\n",
       "      <td>70</td>\n",
       "      <td>Armazém</td>\n",
       "      <td>110</td>\n",
       "      <td>137</td>\n",
       "      <td>6</td>\n",
       "      <td>NaN</td>\n",
       "    </tr>\n",
       "    <tr>\n",
       "      <th>5</th>\n",
       "      <td>Couve-flor</td>\n",
       "      <td>0</td>\n",
       "      <td>0</td>\n",
       "      <td>1</td>\n",
       "      <td>0</td>\n",
       "      <td>80</td>\n",
       "      <td>Armazém</td>\n",
       "      <td>175</td>\n",
       "      <td>218</td>\n",
       "      <td>12</td>\n",
       "      <td>NaN</td>\n",
       "    </tr>\n",
       "    <tr>\n",
       "      <th>6</th>\n",
       "      <td>Grão de café</td>\n",
       "      <td>0</td>\n",
       "      <td>0</td>\n",
       "      <td>1</td>\n",
       "      <td>1</td>\n",
       "      <td>2500</td>\n",
       "      <td>Carrinho</td>\n",
       "      <td>15</td>\n",
       "      <td>18</td>\n",
       "      <td>10</td>\n",
       "      <td>2</td>\n",
       "    </tr>\n",
       "    <tr>\n",
       "      <th>7</th>\n",
       "      <td>Jasmim-Azul</td>\n",
       "      <td>0</td>\n",
       "      <td>0</td>\n",
       "      <td>1</td>\n",
       "      <td>0</td>\n",
       "      <td>30</td>\n",
       "      <td>Armazém</td>\n",
       "      <td>50</td>\n",
       "      <td>62</td>\n",
       "      <td>7</td>\n",
       "      <td>NaN</td>\n",
       "    </tr>\n",
       "    <tr>\n",
       "      <th>8</th>\n",
       "      <td>Morango</td>\n",
       "      <td>0</td>\n",
       "      <td>0</td>\n",
       "      <td>1</td>\n",
       "      <td>0</td>\n",
       "      <td>100</td>\n",
       "      <td>Festival</td>\n",
       "      <td>120</td>\n",
       "      <td>150</td>\n",
       "      <td>8</td>\n",
       "      <td>4</td>\n",
       "    </tr>\n",
       "    <tr>\n",
       "      <th>9</th>\n",
       "      <td>Ruibarbo</td>\n",
       "      <td>0</td>\n",
       "      <td>0</td>\n",
       "      <td>1</td>\n",
       "      <td>0</td>\n",
       "      <td>100</td>\n",
       "      <td>Oásis</td>\n",
       "      <td>220</td>\n",
       "      <td>275</td>\n",
       "      <td>13</td>\n",
       "      <td>NaN</td>\n",
       "    </tr>\n",
       "    <tr>\n",
       "      <th>10</th>\n",
       "      <td>Tulipa</td>\n",
       "      <td>0</td>\n",
       "      <td>0</td>\n",
       "      <td>1</td>\n",
       "      <td>0</td>\n",
       "      <td>20</td>\n",
       "      <td>Armazém</td>\n",
       "      <td>30</td>\n",
       "      <td>37</td>\n",
       "      <td>6</td>\n",
       "      <td>NaN</td>\n",
       "    </tr>\n",
       "    <tr>\n",
       "      <th>11</th>\n",
       "      <td>Vagem</td>\n",
       "      <td>0</td>\n",
       "      <td>0</td>\n",
       "      <td>1</td>\n",
       "      <td>0</td>\n",
       "      <td>60</td>\n",
       "      <td>Armazém</td>\n",
       "      <td>40</td>\n",
       "      <td>50</td>\n",
       "      <td>10</td>\n",
       "      <td>3</td>\n",
       "    </tr>\n",
       "    <tr>\n",
       "      <th>12</th>\n",
       "      <td>Carambola</td>\n",
       "      <td>0</td>\n",
       "      <td>0</td>\n",
       "      <td>0</td>\n",
       "      <td>1</td>\n",
       "      <td>400</td>\n",
       "      <td>Oásis</td>\n",
       "      <td>750</td>\n",
       "      <td>937</td>\n",
       "      <td>13</td>\n",
       "      <td>NaN</td>\n",
       "    </tr>\n",
       "    <tr>\n",
       "      <th>13</th>\n",
       "      <td>Flor-Miçanga</td>\n",
       "      <td>0</td>\n",
       "      <td>0</td>\n",
       "      <td>0</td>\n",
       "      <td>1</td>\n",
       "      <td>50</td>\n",
       "      <td>Armazém</td>\n",
       "      <td>90</td>\n",
       "      <td>112</td>\n",
       "      <td>8</td>\n",
       "      <td>NaN</td>\n",
       "    </tr>\n",
       "    <tr>\n",
       "      <th>14</th>\n",
       "      <td>Girassol</td>\n",
       "      <td>0</td>\n",
       "      <td>1</td>\n",
       "      <td>0</td>\n",
       "      <td>1</td>\n",
       "      <td>125</td>\n",
       "      <td>Mercado</td>\n",
       "      <td>80</td>\n",
       "      <td>100</td>\n",
       "      <td>8</td>\n",
       "      <td>NaN</td>\n",
       "    </tr>\n",
       "    <tr>\n",
       "      <th>15</th>\n",
       "      <td>Lúpulo</td>\n",
       "      <td>0</td>\n",
       "      <td>0</td>\n",
       "      <td>0</td>\n",
       "      <td>1</td>\n",
       "      <td>60</td>\n",
       "      <td>Armazém</td>\n",
       "      <td>25</td>\n",
       "      <td>31</td>\n",
       "      <td>11</td>\n",
       "      <td>1</td>\n",
       "    </tr>\n",
       "    <tr>\n",
       "      <th>16</th>\n",
       "      <td>Melão</td>\n",
       "      <td>0</td>\n",
       "      <td>0</td>\n",
       "      <td>0</td>\n",
       "      <td>1</td>\n",
       "      <td>80</td>\n",
       "      <td>Armazém</td>\n",
       "      <td>250</td>\n",
       "      <td>312</td>\n",
       "      <td>12</td>\n",
       "      <td>NaN</td>\n",
       "    </tr>\n",
       "    <tr>\n",
       "      <th>17</th>\n",
       "      <td>Milho</td>\n",
       "      <td>0</td>\n",
       "      <td>1</td>\n",
       "      <td>0</td>\n",
       "      <td>1</td>\n",
       "      <td>150</td>\n",
       "      <td>Armazém</td>\n",
       "      <td>50</td>\n",
       "      <td>62</td>\n",
       "      <td>14</td>\n",
       "      <td>4</td>\n",
       "    </tr>\n",
       "    <tr>\n",
       "      <th>18</th>\n",
       "      <td>Mirtilo</td>\n",
       "      <td>0</td>\n",
       "      <td>0</td>\n",
       "      <td>0</td>\n",
       "      <td>1</td>\n",
       "      <td>80</td>\n",
       "      <td>Armazém</td>\n",
       "      <td>50</td>\n",
       "      <td>62</td>\n",
       "      <td>13</td>\n",
       "      <td>4</td>\n",
       "    </tr>\n",
       "    <tr>\n",
       "      <th>19</th>\n",
       "      <td>Papoula</td>\n",
       "      <td>0</td>\n",
       "      <td>0</td>\n",
       "      <td>0</td>\n",
       "      <td>1</td>\n",
       "      <td>100</td>\n",
       "      <td>Armazém</td>\n",
       "      <td>140</td>\n",
       "      <td>175</td>\n",
       "      <td>7</td>\n",
       "      <td>NaN</td>\n",
       "    </tr>\n",
       "    <tr>\n",
       "      <th>20</th>\n",
       "      <td>Pimenta quente</td>\n",
       "      <td>0</td>\n",
       "      <td>0</td>\n",
       "      <td>0</td>\n",
       "      <td>1</td>\n",
       "      <td>40</td>\n",
       "      <td>Armazém</td>\n",
       "      <td>40</td>\n",
       "      <td>50</td>\n",
       "      <td>5</td>\n",
       "      <td>3</td>\n",
       "    </tr>\n",
       "    <tr>\n",
       "      <th>21</th>\n",
       "      <td>Rabanete</td>\n",
       "      <td>0</td>\n",
       "      <td>0</td>\n",
       "      <td>0</td>\n",
       "      <td>1</td>\n",
       "      <td>40</td>\n",
       "      <td>Armazém</td>\n",
       "      <td>90</td>\n",
       "      <td>112</td>\n",
       "      <td>6</td>\n",
       "      <td>NaN</td>\n",
       "    </tr>\n",
       "    <tr>\n",
       "      <th>22</th>\n",
       "      <td>Repolho roxo</td>\n",
       "      <td>0</td>\n",
       "      <td>0</td>\n",
       "      <td>0</td>\n",
       "      <td>1</td>\n",
       "      <td>100</td>\n",
       "      <td>Armazém</td>\n",
       "      <td>260</td>\n",
       "      <td>325</td>\n",
       "      <td>9</td>\n",
       "      <td>NaN</td>\n",
       "    </tr>\n",
       "    <tr>\n",
       "      <th>23</th>\n",
       "      <td>Tomate</td>\n",
       "      <td>0</td>\n",
       "      <td>0</td>\n",
       "      <td>0</td>\n",
       "      <td>1</td>\n",
       "      <td>50</td>\n",
       "      <td>Armazém</td>\n",
       "      <td>60</td>\n",
       "      <td>75</td>\n",
       "      <td>11</td>\n",
       "      <td>4</td>\n",
       "    </tr>\n",
       "    <tr>\n",
       "      <th>24</th>\n",
       "      <td>Trigo</td>\n",
       "      <td>0</td>\n",
       "      <td>1</td>\n",
       "      <td>0</td>\n",
       "      <td>1</td>\n",
       "      <td>10</td>\n",
       "      <td>Armazém</td>\n",
       "      <td>25</td>\n",
       "      <td>31</td>\n",
       "      <td>4</td>\n",
       "      <td>NaN</td>\n",
       "    </tr>\n",
       "    <tr>\n",
       "      <th>25</th>\n",
       "      <td>Abóbora</td>\n",
       "      <td>0</td>\n",
       "      <td>1</td>\n",
       "      <td>0</td>\n",
       "      <td>0</td>\n",
       "      <td>100</td>\n",
       "      <td>Armazém</td>\n",
       "      <td>320</td>\n",
       "      <td>400</td>\n",
       "      <td>13</td>\n",
       "      <td>NaN</td>\n",
       "    </tr>\n",
       "    <tr>\n",
       "      <th>26</th>\n",
       "      <td>Alcachofra</td>\n",
       "      <td>0</td>\n",
       "      <td>1</td>\n",
       "      <td>0</td>\n",
       "      <td>0</td>\n",
       "      <td>30</td>\n",
       "      <td>Armazém</td>\n",
       "      <td>160</td>\n",
       "      <td>200</td>\n",
       "      <td>8</td>\n",
       "      <td>NaN</td>\n",
       "    </tr>\n",
       "    <tr>\n",
       "      <th>27</th>\n",
       "      <td>Amaranto</td>\n",
       "      <td>0</td>\n",
       "      <td>1</td>\n",
       "      <td>0</td>\n",
       "      <td>0</td>\n",
       "      <td>70</td>\n",
       "      <td>Armazém</td>\n",
       "      <td>150</td>\n",
       "      <td>187</td>\n",
       "      <td>7</td>\n",
       "      <td>NaN</td>\n",
       "    </tr>\n",
       "    <tr>\n",
       "      <th>28</th>\n",
       "      <td>Berinjela</td>\n",
       "      <td>0</td>\n",
       "      <td>1</td>\n",
       "      <td>0</td>\n",
       "      <td>0</td>\n",
       "      <td>20</td>\n",
       "      <td>Armazém</td>\n",
       "      <td>60</td>\n",
       "      <td>75</td>\n",
       "      <td>5</td>\n",
       "      <td>5</td>\n",
       "    </tr>\n",
       "    <tr>\n",
       "      <th>29</th>\n",
       "      <td>Beterraba</td>\n",
       "      <td>0</td>\n",
       "      <td>1</td>\n",
       "      <td>0</td>\n",
       "      <td>0</td>\n",
       "      <td>20</td>\n",
       "      <td>Oásis</td>\n",
       "      <td>100</td>\n",
       "      <td>125</td>\n",
       "      <td>6</td>\n",
       "      <td>NaN</td>\n",
       "    </tr>\n",
       "    <tr>\n",
       "      <th>30</th>\n",
       "      <td>Couve chinesa</td>\n",
       "      <td>0</td>\n",
       "      <td>1</td>\n",
       "      <td>0</td>\n",
       "      <td>0</td>\n",
       "      <td>50</td>\n",
       "      <td>Armazém</td>\n",
       "      <td>80</td>\n",
       "      <td>100</td>\n",
       "      <td>4</td>\n",
       "      <td>NaN</td>\n",
       "    </tr>\n",
       "    <tr>\n",
       "      <th>31</th>\n",
       "      <td>Inhame</td>\n",
       "      <td>0</td>\n",
       "      <td>1</td>\n",
       "      <td>0</td>\n",
       "      <td>0</td>\n",
       "      <td>60</td>\n",
       "      <td>Armazém</td>\n",
       "      <td>160</td>\n",
       "      <td>200</td>\n",
       "      <td>10</td>\n",
       "      <td>NaN</td>\n",
       "    </tr>\n",
       "    <tr>\n",
       "      <th>32</th>\n",
       "      <td>Oxicoco</td>\n",
       "      <td>0</td>\n",
       "      <td>1</td>\n",
       "      <td>0</td>\n",
       "      <td>0</td>\n",
       "      <td>240</td>\n",
       "      <td>Armazém</td>\n",
       "      <td>75</td>\n",
       "      <td>93</td>\n",
       "      <td>7</td>\n",
       "      <td>5</td>\n",
       "    </tr>\n",
       "    <tr>\n",
       "      <th>33</th>\n",
       "      <td>Rosa-de-fada</td>\n",
       "      <td>0</td>\n",
       "      <td>1</td>\n",
       "      <td>0</td>\n",
       "      <td>0</td>\n",
       "      <td>200</td>\n",
       "      <td>Armazém</td>\n",
       "      <td>290</td>\n",
       "      <td>362</td>\n",
       "      <td>12</td>\n",
       "      <td>NaN</td>\n",
       "    </tr>\n",
       "    <tr>\n",
       "      <th>34</th>\n",
       "      <td>Uva</td>\n",
       "      <td>0</td>\n",
       "      <td>1</td>\n",
       "      <td>0</td>\n",
       "      <td>1</td>\n",
       "      <td>60</td>\n",
       "      <td>Armazém</td>\n",
       "      <td>80</td>\n",
       "      <td>100</td>\n",
       "      <td>10</td>\n",
       "      <td>3</td>\n",
       "    </tr>\n",
       "  </tbody>\n",
       "</table>\n",
       "</div>"
      ],
      "text/plain": [
       "         Nome_Fruto Inverno Outono Primavera Verão Preco_Compra Local_Compra  \\\n",
       "0              Alho       0      0         1     0           40      Armazém   \n",
       "1   Arroz não moído       0      0         1     0           40      Armazém   \n",
       "2            Batata       0      0         1     0           50      Armazém   \n",
       "3          Chirívia       0      0         1     0           20      Armazém   \n",
       "4             Couve       0      0         1     0           70      Armazém   \n",
       "5        Couve-flor       0      0         1     0           80      Armazém   \n",
       "6      Grão de café       0      0         1     1         2500     Carrinho   \n",
       "7       Jasmim-Azul       0      0         1     0           30      Armazém   \n",
       "8           Morango       0      0         1     0          100     Festival   \n",
       "9          Ruibarbo       0      0         1     0          100        Oásis   \n",
       "10           Tulipa       0      0         1     0           20      Armazém   \n",
       "11            Vagem       0      0         1     0           60      Armazém   \n",
       "12        Carambola       0      0         0     1          400        Oásis   \n",
       "13     Flor-Miçanga       0      0         0     1           50      Armazém   \n",
       "14         Girassol       0      1         0     1          125      Mercado   \n",
       "15           Lúpulo       0      0         0     1           60      Armazém   \n",
       "16            Melão       0      0         0     1           80      Armazém   \n",
       "17            Milho       0      1         0     1          150      Armazém   \n",
       "18          Mirtilo       0      0         0     1           80      Armazém   \n",
       "19          Papoula       0      0         0     1          100      Armazém   \n",
       "20   Pimenta quente       0      0         0     1           40      Armazém   \n",
       "21         Rabanete       0      0         0     1           40      Armazém   \n",
       "22     Repolho roxo       0      0         0     1          100      Armazém   \n",
       "23           Tomate       0      0         0     1           50      Armazém   \n",
       "24            Trigo       0      1         0     1           10      Armazém   \n",
       "25          Abóbora       0      1         0     0          100      Armazém   \n",
       "26       Alcachofra       0      1         0     0           30      Armazém   \n",
       "27         Amaranto       0      1         0     0           70      Armazém   \n",
       "28        Berinjela       0      1         0     0           20      Armazém   \n",
       "29        Beterraba       0      1         0     0           20        Oásis   \n",
       "30    Couve chinesa       0      1         0     0           50      Armazém   \n",
       "31           Inhame       0      1         0     0           60      Armazém   \n",
       "32          Oxicoco       0      1         0     0          240      Armazém   \n",
       "33     Rosa-de-fada       0      1         0     0          200      Armazém   \n",
       "34              Uva       0      1         0     1           60      Armazém   \n",
       "\n",
       "   Preco_Venda_Comum Preco_Venda_Incomum Dias_Para_Amadurecer  \\\n",
       "0                 60                  75                    4   \n",
       "1                 30                  37                    8   \n",
       "2                 80                 100                    6   \n",
       "3                 35                  43                    4   \n",
       "4                110                 137                    6   \n",
       "5                175                 218                   12   \n",
       "6                 15                  18                   10   \n",
       "7                 50                  62                    7   \n",
       "8                120                 150                    8   \n",
       "9                220                 275                   13   \n",
       "10                30                  37                    6   \n",
       "11                40                  50                   10   \n",
       "12               750                 937                   13   \n",
       "13                90                 112                    8   \n",
       "14                80                 100                    8   \n",
       "15                25                  31                   11   \n",
       "16               250                 312                   12   \n",
       "17                50                  62                   14   \n",
       "18                50                  62                   13   \n",
       "19               140                 175                    7   \n",
       "20                40                  50                    5   \n",
       "21                90                 112                    6   \n",
       "22               260                 325                    9   \n",
       "23                60                  75                   11   \n",
       "24                25                  31                    4   \n",
       "25               320                 400                   13   \n",
       "26               160                 200                    8   \n",
       "27               150                 187                    7   \n",
       "28                60                  75                    5   \n",
       "29               100                 125                    6   \n",
       "30                80                 100                    4   \n",
       "31               160                 200                   10   \n",
       "32                75                  93                    7   \n",
       "33               290                 362                   12   \n",
       "34                80                 100                   10   \n",
       "\n",
       "   Dias_Até_Colher_Novamente  \n",
       "0                        NaN  \n",
       "1                        NaN  \n",
       "2                        NaN  \n",
       "3                        NaN  \n",
       "4                        NaN  \n",
       "5                        NaN  \n",
       "6                          2  \n",
       "7                        NaN  \n",
       "8                          4  \n",
       "9                        NaN  \n",
       "10                       NaN  \n",
       "11                         3  \n",
       "12                       NaN  \n",
       "13                       NaN  \n",
       "14                       NaN  \n",
       "15                         1  \n",
       "16                       NaN  \n",
       "17                         4  \n",
       "18                         4  \n",
       "19                       NaN  \n",
       "20                         3  \n",
       "21                       NaN  \n",
       "22                       NaN  \n",
       "23                         4  \n",
       "24                       NaN  \n",
       "25                       NaN  \n",
       "26                       NaN  \n",
       "27                       NaN  \n",
       "28                         5  \n",
       "29                       NaN  \n",
       "30                       NaN  \n",
       "31                       NaN  \n",
       "32                         5  \n",
       "33                       NaN  \n",
       "34                         3  "
      ]
     },
     "execution_count": 86,
     "metadata": {},
     "output_type": "execute_result"
    }
   ],
   "source": [
    "dataframe_stardewvalley"
   ]
  },
  {
   "cell_type": "markdown",
   "metadata": {
    "id": "RCYUyurEt-Me"
   },
   "source": [
    "## Converter as colunas para os tipos desejados"
   ]
  },
  {
   "cell_type": "code",
   "execution_count": 87,
   "metadata": {
    "ExecuteTime": {
     "end_time": "2023-11-25T02:38:23.029067400Z",
     "start_time": "2023-11-25T02:38:22.618347200Z"
    },
    "colab": {
     "base_uri": "https://localhost:8080/"
    },
    "id": "6XmUmBrSuB2R",
    "outputId": "c0a07051-b0cb-4bbe-d356-3078efc002cb"
   },
   "outputs": [
    {
     "data": {
      "text/plain": [
       "Index(['Nome_Fruto', 'Inverno', 'Outono', 'Primavera', 'Verão', 'Preco_Compra',\n",
       "       'Local_Compra', 'Preco_Venda_Comum', 'Preco_Venda_Incomum',\n",
       "       'Dias_Para_Amadurecer', 'Dias_Até_Colher_Novamente'],\n",
       "      dtype='object')"
      ]
     },
     "execution_count": 87,
     "metadata": {},
     "output_type": "execute_result"
    }
   ],
   "source": [
    "dataframe_stardewvalley.columns"
   ]
  },
  {
   "cell_type": "code",
   "execution_count": 88,
   "metadata": {
    "ExecuteTime": {
     "end_time": "2023-11-25T02:38:23.069957700Z",
     "start_time": "2023-11-25T02:38:22.643241100Z"
    },
    "id": "jjrVBK17zEcm"
   },
   "outputs": [],
   "source": [
    "colunas_para_converter = ['Inverno', 'Outono', 'Primavera', 'Verão', 'Preco_Compra',\n",
    "                          'Preco_Venda_Comum', 'Preco_Venda_Incomum', 'Dias_Para_Amadurecer', 'Dias_Até_Colher_Novamente']"
   ]
  },
  {
   "cell_type": "code",
   "execution_count": 89,
   "metadata": {
    "ExecuteTime": {
     "end_time": "2023-11-25T02:38:23.137307900Z",
     "start_time": "2023-11-25T02:38:22.658036Z"
    },
    "id": "a1xZAh2dyZ2Z"
   },
   "outputs": [],
   "source": [
    "dataframe_stardewvalley[colunas_para_converter] = dataframe_stardewvalley[colunas_para_converter].apply(\n",
    "    pd.to_numeric, errors='coerce', downcast='integer')"
   ]
  },
  {
   "cell_type": "code",
   "execution_count": 90,
   "metadata": {
    "ExecuteTime": {
     "end_time": "2023-11-25T02:38:23.138304200Z",
     "start_time": "2023-11-25T02:38:22.705909900Z"
    },
    "colab": {
     "base_uri": "https://localhost:8080/"
    },
    "id": "CmM5xUaVzLT_",
    "outputId": "76b3b068-e17a-462c-e357-92973d3526c5"
   },
   "outputs": [
    {
     "data": {
      "text/plain": [
       "Nome_Fruto                    object\n",
       "Inverno                         int8\n",
       "Outono                          int8\n",
       "Primavera                       int8\n",
       "Verão                           int8\n",
       "Preco_Compra                   int16\n",
       "Local_Compra                  object\n",
       "Preco_Venda_Comum              int16\n",
       "Preco_Venda_Incomum            int16\n",
       "Dias_Para_Amadurecer            int8\n",
       "Dias_Até_Colher_Novamente    float64\n",
       "dtype: object"
      ]
     },
     "execution_count": 90,
     "metadata": {},
     "output_type": "execute_result"
    }
   ],
   "source": [
    "dataframe_stardewvalley.dtypes"
   ]
  },
  {
   "cell_type": "markdown",
   "metadata": {
    "id": "NEG-zhfATvYs"
   },
   "source": [
    "## Algumas sementes retornam mais de 1 fruto por colheita"
   ]
  },
  {
   "cell_type": "code",
   "execution_count": 91,
   "metadata": {
    "ExecuteTime": {
     "end_time": "2023-11-25T02:38:23.163237400Z",
     "start_time": "2023-11-25T02:38:22.722157500Z"
    },
    "id": "b0eA1_VsTyFd"
   },
   "outputs": [],
   "source": [
    "dicionario_multiplicador_colheita = {\n",
    "    \"Oxicoco\": 2, \"Girassol\": 3, \"Grão de café\": 4}"
   ]
  },
  {
   "cell_type": "code",
   "execution_count": 92,
   "metadata": {
    "ExecuteTime": {
     "end_time": "2023-11-25T02:38:23.232052800Z",
     "start_time": "2023-11-25T02:38:22.749599500Z"
    },
    "id": "V7M2HYOBUA_c"
   },
   "outputs": [],
   "source": [
    "def aplicar_multiplicador(row):\n",
    "\n",
    "  nome_fruto = row[\"Nome_Fruto\"]\n",
    "\n",
    "  multiplicador = dicionario_multiplicador_colheita.get(nome_fruto, 1)\n",
    "\n",
    "  row[\"Preco_Venda_Comum\"] *= multiplicador\n",
    "\n",
    "  row[\"Preco_Venda_Incomum\"] *= multiplicador\n",
    "\n",
    "  return row"
   ]
  },
  {
   "cell_type": "code",
   "execution_count": 93,
   "metadata": {
    "ExecuteTime": {
     "end_time": "2023-11-25T02:38:23.305216800Z",
     "start_time": "2023-11-25T02:38:22.778184100Z"
    },
    "id": "ZzeHx5PPUELI"
   },
   "outputs": [],
   "source": [
    "dataframe_stardewvalley = dataframe_stardewvalley.apply(\n",
    "    aplicar_multiplicador, axis=1)"
   ]
  },
  {
   "cell_type": "code",
   "execution_count": 94,
   "metadata": {
    "ExecuteTime": {
     "end_time": "2023-11-25T02:38:23.309207Z",
     "start_time": "2023-11-25T02:38:22.806133300Z"
    },
    "colab": {
     "base_uri": "https://localhost:8080/",
     "height": 1000
    },
    "id": "6itCugC-UJAH",
    "outputId": "bce52543-9dc9-4348-e233-bb085314a4a6"
   },
   "outputs": [
    {
     "data": {
      "text/html": [
       "<div>\n",
       "<style scoped>\n",
       "    .dataframe tbody tr th:only-of-type {\n",
       "        vertical-align: middle;\n",
       "    }\n",
       "\n",
       "    .dataframe tbody tr th {\n",
       "        vertical-align: top;\n",
       "    }\n",
       "\n",
       "    .dataframe thead th {\n",
       "        text-align: right;\n",
       "    }\n",
       "</style>\n",
       "<table border=\"1\" class=\"dataframe\">\n",
       "  <thead>\n",
       "    <tr style=\"text-align: right;\">\n",
       "      <th></th>\n",
       "      <th>Nome_Fruto</th>\n",
       "      <th>Inverno</th>\n",
       "      <th>Outono</th>\n",
       "      <th>Primavera</th>\n",
       "      <th>Verão</th>\n",
       "      <th>Preco_Compra</th>\n",
       "      <th>Local_Compra</th>\n",
       "      <th>Preco_Venda_Comum</th>\n",
       "      <th>Preco_Venda_Incomum</th>\n",
       "      <th>Dias_Para_Amadurecer</th>\n",
       "      <th>Dias_Até_Colher_Novamente</th>\n",
       "    </tr>\n",
       "  </thead>\n",
       "  <tbody>\n",
       "    <tr>\n",
       "      <th>0</th>\n",
       "      <td>Alho</td>\n",
       "      <td>0</td>\n",
       "      <td>0</td>\n",
       "      <td>1</td>\n",
       "      <td>0</td>\n",
       "      <td>40</td>\n",
       "      <td>Armazém</td>\n",
       "      <td>60</td>\n",
       "      <td>75</td>\n",
       "      <td>4</td>\n",
       "      <td>NaN</td>\n",
       "    </tr>\n",
       "    <tr>\n",
       "      <th>1</th>\n",
       "      <td>Arroz não moído</td>\n",
       "      <td>0</td>\n",
       "      <td>0</td>\n",
       "      <td>1</td>\n",
       "      <td>0</td>\n",
       "      <td>40</td>\n",
       "      <td>Armazém</td>\n",
       "      <td>30</td>\n",
       "      <td>37</td>\n",
       "      <td>8</td>\n",
       "      <td>NaN</td>\n",
       "    </tr>\n",
       "    <tr>\n",
       "      <th>2</th>\n",
       "      <td>Batata</td>\n",
       "      <td>0</td>\n",
       "      <td>0</td>\n",
       "      <td>1</td>\n",
       "      <td>0</td>\n",
       "      <td>50</td>\n",
       "      <td>Armazém</td>\n",
       "      <td>80</td>\n",
       "      <td>100</td>\n",
       "      <td>6</td>\n",
       "      <td>NaN</td>\n",
       "    </tr>\n",
       "    <tr>\n",
       "      <th>3</th>\n",
       "      <td>Chirívia</td>\n",
       "      <td>0</td>\n",
       "      <td>0</td>\n",
       "      <td>1</td>\n",
       "      <td>0</td>\n",
       "      <td>20</td>\n",
       "      <td>Armazém</td>\n",
       "      <td>35</td>\n",
       "      <td>43</td>\n",
       "      <td>4</td>\n",
       "      <td>NaN</td>\n",
       "    </tr>\n",
       "    <tr>\n",
       "      <th>4</th>\n",
       "      <td>Couve</td>\n",
       "      <td>0</td>\n",
       "      <td>0</td>\n",
       "      <td>1</td>\n",
       "      <td>0</td>\n",
       "      <td>70</td>\n",
       "      <td>Armazém</td>\n",
       "      <td>110</td>\n",
       "      <td>137</td>\n",
       "      <td>6</td>\n",
       "      <td>NaN</td>\n",
       "    </tr>\n",
       "    <tr>\n",
       "      <th>5</th>\n",
       "      <td>Couve-flor</td>\n",
       "      <td>0</td>\n",
       "      <td>0</td>\n",
       "      <td>1</td>\n",
       "      <td>0</td>\n",
       "      <td>80</td>\n",
       "      <td>Armazém</td>\n",
       "      <td>175</td>\n",
       "      <td>218</td>\n",
       "      <td>12</td>\n",
       "      <td>NaN</td>\n",
       "    </tr>\n",
       "    <tr>\n",
       "      <th>6</th>\n",
       "      <td>Grão de café</td>\n",
       "      <td>0</td>\n",
       "      <td>0</td>\n",
       "      <td>1</td>\n",
       "      <td>1</td>\n",
       "      <td>2500</td>\n",
       "      <td>Carrinho</td>\n",
       "      <td>60</td>\n",
       "      <td>72</td>\n",
       "      <td>10</td>\n",
       "      <td>2.0</td>\n",
       "    </tr>\n",
       "    <tr>\n",
       "      <th>7</th>\n",
       "      <td>Jasmim-Azul</td>\n",
       "      <td>0</td>\n",
       "      <td>0</td>\n",
       "      <td>1</td>\n",
       "      <td>0</td>\n",
       "      <td>30</td>\n",
       "      <td>Armazém</td>\n",
       "      <td>50</td>\n",
       "      <td>62</td>\n",
       "      <td>7</td>\n",
       "      <td>NaN</td>\n",
       "    </tr>\n",
       "    <tr>\n",
       "      <th>8</th>\n",
       "      <td>Morango</td>\n",
       "      <td>0</td>\n",
       "      <td>0</td>\n",
       "      <td>1</td>\n",
       "      <td>0</td>\n",
       "      <td>100</td>\n",
       "      <td>Festival</td>\n",
       "      <td>120</td>\n",
       "      <td>150</td>\n",
       "      <td>8</td>\n",
       "      <td>4.0</td>\n",
       "    </tr>\n",
       "    <tr>\n",
       "      <th>9</th>\n",
       "      <td>Ruibarbo</td>\n",
       "      <td>0</td>\n",
       "      <td>0</td>\n",
       "      <td>1</td>\n",
       "      <td>0</td>\n",
       "      <td>100</td>\n",
       "      <td>Oásis</td>\n",
       "      <td>220</td>\n",
       "      <td>275</td>\n",
       "      <td>13</td>\n",
       "      <td>NaN</td>\n",
       "    </tr>\n",
       "    <tr>\n",
       "      <th>10</th>\n",
       "      <td>Tulipa</td>\n",
       "      <td>0</td>\n",
       "      <td>0</td>\n",
       "      <td>1</td>\n",
       "      <td>0</td>\n",
       "      <td>20</td>\n",
       "      <td>Armazém</td>\n",
       "      <td>30</td>\n",
       "      <td>37</td>\n",
       "      <td>6</td>\n",
       "      <td>NaN</td>\n",
       "    </tr>\n",
       "    <tr>\n",
       "      <th>11</th>\n",
       "      <td>Vagem</td>\n",
       "      <td>0</td>\n",
       "      <td>0</td>\n",
       "      <td>1</td>\n",
       "      <td>0</td>\n",
       "      <td>60</td>\n",
       "      <td>Armazém</td>\n",
       "      <td>40</td>\n",
       "      <td>50</td>\n",
       "      <td>10</td>\n",
       "      <td>3.0</td>\n",
       "    </tr>\n",
       "    <tr>\n",
       "      <th>12</th>\n",
       "      <td>Carambola</td>\n",
       "      <td>0</td>\n",
       "      <td>0</td>\n",
       "      <td>0</td>\n",
       "      <td>1</td>\n",
       "      <td>400</td>\n",
       "      <td>Oásis</td>\n",
       "      <td>750</td>\n",
       "      <td>937</td>\n",
       "      <td>13</td>\n",
       "      <td>NaN</td>\n",
       "    </tr>\n",
       "    <tr>\n",
       "      <th>13</th>\n",
       "      <td>Flor-Miçanga</td>\n",
       "      <td>0</td>\n",
       "      <td>0</td>\n",
       "      <td>0</td>\n",
       "      <td>1</td>\n",
       "      <td>50</td>\n",
       "      <td>Armazém</td>\n",
       "      <td>90</td>\n",
       "      <td>112</td>\n",
       "      <td>8</td>\n",
       "      <td>NaN</td>\n",
       "    </tr>\n",
       "    <tr>\n",
       "      <th>14</th>\n",
       "      <td>Girassol</td>\n",
       "      <td>0</td>\n",
       "      <td>1</td>\n",
       "      <td>0</td>\n",
       "      <td>1</td>\n",
       "      <td>125</td>\n",
       "      <td>Mercado</td>\n",
       "      <td>240</td>\n",
       "      <td>300</td>\n",
       "      <td>8</td>\n",
       "      <td>NaN</td>\n",
       "    </tr>\n",
       "    <tr>\n",
       "      <th>15</th>\n",
       "      <td>Lúpulo</td>\n",
       "      <td>0</td>\n",
       "      <td>0</td>\n",
       "      <td>0</td>\n",
       "      <td>1</td>\n",
       "      <td>60</td>\n",
       "      <td>Armazém</td>\n",
       "      <td>25</td>\n",
       "      <td>31</td>\n",
       "      <td>11</td>\n",
       "      <td>1.0</td>\n",
       "    </tr>\n",
       "    <tr>\n",
       "      <th>16</th>\n",
       "      <td>Melão</td>\n",
       "      <td>0</td>\n",
       "      <td>0</td>\n",
       "      <td>0</td>\n",
       "      <td>1</td>\n",
       "      <td>80</td>\n",
       "      <td>Armazém</td>\n",
       "      <td>250</td>\n",
       "      <td>312</td>\n",
       "      <td>12</td>\n",
       "      <td>NaN</td>\n",
       "    </tr>\n",
       "    <tr>\n",
       "      <th>17</th>\n",
       "      <td>Milho</td>\n",
       "      <td>0</td>\n",
       "      <td>1</td>\n",
       "      <td>0</td>\n",
       "      <td>1</td>\n",
       "      <td>150</td>\n",
       "      <td>Armazém</td>\n",
       "      <td>50</td>\n",
       "      <td>62</td>\n",
       "      <td>14</td>\n",
       "      <td>4.0</td>\n",
       "    </tr>\n",
       "    <tr>\n",
       "      <th>18</th>\n",
       "      <td>Mirtilo</td>\n",
       "      <td>0</td>\n",
       "      <td>0</td>\n",
       "      <td>0</td>\n",
       "      <td>1</td>\n",
       "      <td>80</td>\n",
       "      <td>Armazém</td>\n",
       "      <td>50</td>\n",
       "      <td>62</td>\n",
       "      <td>13</td>\n",
       "      <td>4.0</td>\n",
       "    </tr>\n",
       "    <tr>\n",
       "      <th>19</th>\n",
       "      <td>Papoula</td>\n",
       "      <td>0</td>\n",
       "      <td>0</td>\n",
       "      <td>0</td>\n",
       "      <td>1</td>\n",
       "      <td>100</td>\n",
       "      <td>Armazém</td>\n",
       "      <td>140</td>\n",
       "      <td>175</td>\n",
       "      <td>7</td>\n",
       "      <td>NaN</td>\n",
       "    </tr>\n",
       "    <tr>\n",
       "      <th>20</th>\n",
       "      <td>Pimenta quente</td>\n",
       "      <td>0</td>\n",
       "      <td>0</td>\n",
       "      <td>0</td>\n",
       "      <td>1</td>\n",
       "      <td>40</td>\n",
       "      <td>Armazém</td>\n",
       "      <td>40</td>\n",
       "      <td>50</td>\n",
       "      <td>5</td>\n",
       "      <td>3.0</td>\n",
       "    </tr>\n",
       "    <tr>\n",
       "      <th>21</th>\n",
       "      <td>Rabanete</td>\n",
       "      <td>0</td>\n",
       "      <td>0</td>\n",
       "      <td>0</td>\n",
       "      <td>1</td>\n",
       "      <td>40</td>\n",
       "      <td>Armazém</td>\n",
       "      <td>90</td>\n",
       "      <td>112</td>\n",
       "      <td>6</td>\n",
       "      <td>NaN</td>\n",
       "    </tr>\n",
       "    <tr>\n",
       "      <th>22</th>\n",
       "      <td>Repolho roxo</td>\n",
       "      <td>0</td>\n",
       "      <td>0</td>\n",
       "      <td>0</td>\n",
       "      <td>1</td>\n",
       "      <td>100</td>\n",
       "      <td>Armazém</td>\n",
       "      <td>260</td>\n",
       "      <td>325</td>\n",
       "      <td>9</td>\n",
       "      <td>NaN</td>\n",
       "    </tr>\n",
       "    <tr>\n",
       "      <th>23</th>\n",
       "      <td>Tomate</td>\n",
       "      <td>0</td>\n",
       "      <td>0</td>\n",
       "      <td>0</td>\n",
       "      <td>1</td>\n",
       "      <td>50</td>\n",
       "      <td>Armazém</td>\n",
       "      <td>60</td>\n",
       "      <td>75</td>\n",
       "      <td>11</td>\n",
       "      <td>4.0</td>\n",
       "    </tr>\n",
       "    <tr>\n",
       "      <th>24</th>\n",
       "      <td>Trigo</td>\n",
       "      <td>0</td>\n",
       "      <td>1</td>\n",
       "      <td>0</td>\n",
       "      <td>1</td>\n",
       "      <td>10</td>\n",
       "      <td>Armazém</td>\n",
       "      <td>25</td>\n",
       "      <td>31</td>\n",
       "      <td>4</td>\n",
       "      <td>NaN</td>\n",
       "    </tr>\n",
       "    <tr>\n",
       "      <th>25</th>\n",
       "      <td>Abóbora</td>\n",
       "      <td>0</td>\n",
       "      <td>1</td>\n",
       "      <td>0</td>\n",
       "      <td>0</td>\n",
       "      <td>100</td>\n",
       "      <td>Armazém</td>\n",
       "      <td>320</td>\n",
       "      <td>400</td>\n",
       "      <td>13</td>\n",
       "      <td>NaN</td>\n",
       "    </tr>\n",
       "    <tr>\n",
       "      <th>26</th>\n",
       "      <td>Alcachofra</td>\n",
       "      <td>0</td>\n",
       "      <td>1</td>\n",
       "      <td>0</td>\n",
       "      <td>0</td>\n",
       "      <td>30</td>\n",
       "      <td>Armazém</td>\n",
       "      <td>160</td>\n",
       "      <td>200</td>\n",
       "      <td>8</td>\n",
       "      <td>NaN</td>\n",
       "    </tr>\n",
       "    <tr>\n",
       "      <th>27</th>\n",
       "      <td>Amaranto</td>\n",
       "      <td>0</td>\n",
       "      <td>1</td>\n",
       "      <td>0</td>\n",
       "      <td>0</td>\n",
       "      <td>70</td>\n",
       "      <td>Armazém</td>\n",
       "      <td>150</td>\n",
       "      <td>187</td>\n",
       "      <td>7</td>\n",
       "      <td>NaN</td>\n",
       "    </tr>\n",
       "    <tr>\n",
       "      <th>28</th>\n",
       "      <td>Berinjela</td>\n",
       "      <td>0</td>\n",
       "      <td>1</td>\n",
       "      <td>0</td>\n",
       "      <td>0</td>\n",
       "      <td>20</td>\n",
       "      <td>Armazém</td>\n",
       "      <td>60</td>\n",
       "      <td>75</td>\n",
       "      <td>5</td>\n",
       "      <td>5.0</td>\n",
       "    </tr>\n",
       "    <tr>\n",
       "      <th>29</th>\n",
       "      <td>Beterraba</td>\n",
       "      <td>0</td>\n",
       "      <td>1</td>\n",
       "      <td>0</td>\n",
       "      <td>0</td>\n",
       "      <td>20</td>\n",
       "      <td>Oásis</td>\n",
       "      <td>100</td>\n",
       "      <td>125</td>\n",
       "      <td>6</td>\n",
       "      <td>NaN</td>\n",
       "    </tr>\n",
       "    <tr>\n",
       "      <th>30</th>\n",
       "      <td>Couve chinesa</td>\n",
       "      <td>0</td>\n",
       "      <td>1</td>\n",
       "      <td>0</td>\n",
       "      <td>0</td>\n",
       "      <td>50</td>\n",
       "      <td>Armazém</td>\n",
       "      <td>80</td>\n",
       "      <td>100</td>\n",
       "      <td>4</td>\n",
       "      <td>NaN</td>\n",
       "    </tr>\n",
       "    <tr>\n",
       "      <th>31</th>\n",
       "      <td>Inhame</td>\n",
       "      <td>0</td>\n",
       "      <td>1</td>\n",
       "      <td>0</td>\n",
       "      <td>0</td>\n",
       "      <td>60</td>\n",
       "      <td>Armazém</td>\n",
       "      <td>160</td>\n",
       "      <td>200</td>\n",
       "      <td>10</td>\n",
       "      <td>NaN</td>\n",
       "    </tr>\n",
       "    <tr>\n",
       "      <th>32</th>\n",
       "      <td>Oxicoco</td>\n",
       "      <td>0</td>\n",
       "      <td>1</td>\n",
       "      <td>0</td>\n",
       "      <td>0</td>\n",
       "      <td>240</td>\n",
       "      <td>Armazém</td>\n",
       "      <td>150</td>\n",
       "      <td>186</td>\n",
       "      <td>7</td>\n",
       "      <td>5.0</td>\n",
       "    </tr>\n",
       "    <tr>\n",
       "      <th>33</th>\n",
       "      <td>Rosa-de-fada</td>\n",
       "      <td>0</td>\n",
       "      <td>1</td>\n",
       "      <td>0</td>\n",
       "      <td>0</td>\n",
       "      <td>200</td>\n",
       "      <td>Armazém</td>\n",
       "      <td>290</td>\n",
       "      <td>362</td>\n",
       "      <td>12</td>\n",
       "      <td>NaN</td>\n",
       "    </tr>\n",
       "    <tr>\n",
       "      <th>34</th>\n",
       "      <td>Uva</td>\n",
       "      <td>0</td>\n",
       "      <td>1</td>\n",
       "      <td>0</td>\n",
       "      <td>1</td>\n",
       "      <td>60</td>\n",
       "      <td>Armazém</td>\n",
       "      <td>80</td>\n",
       "      <td>100</td>\n",
       "      <td>10</td>\n",
       "      <td>3.0</td>\n",
       "    </tr>\n",
       "  </tbody>\n",
       "</table>\n",
       "</div>"
      ],
      "text/plain": [
       "         Nome_Fruto  Inverno  Outono  Primavera  Verão  Preco_Compra  \\\n",
       "0              Alho        0       0          1      0            40   \n",
       "1   Arroz não moído        0       0          1      0            40   \n",
       "2            Batata        0       0          1      0            50   \n",
       "3          Chirívia        0       0          1      0            20   \n",
       "4             Couve        0       0          1      0            70   \n",
       "5        Couve-flor        0       0          1      0            80   \n",
       "6      Grão de café        0       0          1      1          2500   \n",
       "7       Jasmim-Azul        0       0          1      0            30   \n",
       "8           Morango        0       0          1      0           100   \n",
       "9          Ruibarbo        0       0          1      0           100   \n",
       "10           Tulipa        0       0          1      0            20   \n",
       "11            Vagem        0       0          1      0            60   \n",
       "12        Carambola        0       0          0      1           400   \n",
       "13     Flor-Miçanga        0       0          0      1            50   \n",
       "14         Girassol        0       1          0      1           125   \n",
       "15           Lúpulo        0       0          0      1            60   \n",
       "16            Melão        0       0          0      1            80   \n",
       "17            Milho        0       1          0      1           150   \n",
       "18          Mirtilo        0       0          0      1            80   \n",
       "19          Papoula        0       0          0      1           100   \n",
       "20   Pimenta quente        0       0          0      1            40   \n",
       "21         Rabanete        0       0          0      1            40   \n",
       "22     Repolho roxo        0       0          0      1           100   \n",
       "23           Tomate        0       0          0      1            50   \n",
       "24            Trigo        0       1          0      1            10   \n",
       "25          Abóbora        0       1          0      0           100   \n",
       "26       Alcachofra        0       1          0      0            30   \n",
       "27         Amaranto        0       1          0      0            70   \n",
       "28        Berinjela        0       1          0      0            20   \n",
       "29        Beterraba        0       1          0      0            20   \n",
       "30    Couve chinesa        0       1          0      0            50   \n",
       "31           Inhame        0       1          0      0            60   \n",
       "32          Oxicoco        0       1          0      0           240   \n",
       "33     Rosa-de-fada        0       1          0      0           200   \n",
       "34              Uva        0       1          0      1            60   \n",
       "\n",
       "   Local_Compra  Preco_Venda_Comum  Preco_Venda_Incomum  Dias_Para_Amadurecer  \\\n",
       "0       Armazém                 60                   75                     4   \n",
       "1       Armazém                 30                   37                     8   \n",
       "2       Armazém                 80                  100                     6   \n",
       "3       Armazém                 35                   43                     4   \n",
       "4       Armazém                110                  137                     6   \n",
       "5       Armazém                175                  218                    12   \n",
       "6      Carrinho                 60                   72                    10   \n",
       "7       Armazém                 50                   62                     7   \n",
       "8      Festival                120                  150                     8   \n",
       "9         Oásis                220                  275                    13   \n",
       "10      Armazém                 30                   37                     6   \n",
       "11      Armazém                 40                   50                    10   \n",
       "12        Oásis                750                  937                    13   \n",
       "13      Armazém                 90                  112                     8   \n",
       "14      Mercado                240                  300                     8   \n",
       "15      Armazém                 25                   31                    11   \n",
       "16      Armazém                250                  312                    12   \n",
       "17      Armazém                 50                   62                    14   \n",
       "18      Armazém                 50                   62                    13   \n",
       "19      Armazém                140                  175                     7   \n",
       "20      Armazém                 40                   50                     5   \n",
       "21      Armazém                 90                  112                     6   \n",
       "22      Armazém                260                  325                     9   \n",
       "23      Armazém                 60                   75                    11   \n",
       "24      Armazém                 25                   31                     4   \n",
       "25      Armazém                320                  400                    13   \n",
       "26      Armazém                160                  200                     8   \n",
       "27      Armazém                150                  187                     7   \n",
       "28      Armazém                 60                   75                     5   \n",
       "29        Oásis                100                  125                     6   \n",
       "30      Armazém                 80                  100                     4   \n",
       "31      Armazém                160                  200                    10   \n",
       "32      Armazém                150                  186                     7   \n",
       "33      Armazém                290                  362                    12   \n",
       "34      Armazém                 80                  100                    10   \n",
       "\n",
       "    Dias_Até_Colher_Novamente  \n",
       "0                         NaN  \n",
       "1                         NaN  \n",
       "2                         NaN  \n",
       "3                         NaN  \n",
       "4                         NaN  \n",
       "5                         NaN  \n",
       "6                         2.0  \n",
       "7                         NaN  \n",
       "8                         4.0  \n",
       "9                         NaN  \n",
       "10                        NaN  \n",
       "11                        3.0  \n",
       "12                        NaN  \n",
       "13                        NaN  \n",
       "14                        NaN  \n",
       "15                        1.0  \n",
       "16                        NaN  \n",
       "17                        4.0  \n",
       "18                        4.0  \n",
       "19                        NaN  \n",
       "20                        3.0  \n",
       "21                        NaN  \n",
       "22                        NaN  \n",
       "23                        4.0  \n",
       "24                        NaN  \n",
       "25                        NaN  \n",
       "26                        NaN  \n",
       "27                        NaN  \n",
       "28                        5.0  \n",
       "29                        NaN  \n",
       "30                        NaN  \n",
       "31                        NaN  \n",
       "32                        5.0  \n",
       "33                        NaN  \n",
       "34                        3.0  "
      ]
     },
     "execution_count": 94,
     "metadata": {},
     "output_type": "execute_result"
    }
   ],
   "source": [
    "dataframe_stardewvalley"
   ]
  },
  {
   "cell_type": "markdown",
   "metadata": {
    "id": "yD2JS1AsHRBP"
   },
   "source": [
    "## LEMBRAR\n",
    "\n",
    "* Utilizar pipeline etl integrado com algum chat generativo para dar dicas.\n",
    "\n",
    "* Maioria das sementes só crescem em determinada estação.\n",
    "\n",
    "* Algumas sementes dão fruto apenas 1x, outros dão de n em n dias.\n",
    "\n",
    "* De restrições, possuo: quantidade de ouro disponivel, quantidade de energia e quantidade de quadrados (unidades totais de semente).\n",
    "\n",
    "* Algumas plantas cobrem quantidade diferente de quadrados.\n",
    "\n",
    "* Existem niveis diferentes de qualidade de fruto, levar probabilidade de cada em conta.\n",
    "\n",
    "* Alguns frutos só são liberados após algum tempo.\n",
    "\n",
    "* Questionar se a única coisa a maximizar é o lucro < < < < < LUCRO != Retorno. Tem que levar em conta os gastos.\n",
    "\n",
    "* Tbm tem diferenca de precos entre piere e jojo OK.\n",
    "\n",
    "* Utilizar calculo de valor esperado. De acordo com as probabilidades de cada qualidade para cada fruta.\n",
    "\n",
    "* Calculations do not take into account Fertilizer, crop quality, or the Tiller or Agriculturist Professions. Variations are noted in or below each table, if applicable. It is assumed that the crop is watered on the day of planting.\n",
    "\n",
    "* The general formula is: Minimum Gold per Day = ((Max Harvests × Sell Price per Harvest) − Seed Price) / Growing Days.\n",
    "\n",
    "* Growing Days = Days to Maturity + ((Max Harvests − 1) × Days to Regrow).\n",
    "\n",
    "* Days to Maturity and Days to Regrow are listed in each table.\n",
    "\n",
    "* Max Harvests is normally 1, but for crops that continue to produce, it is the actual number of harvests that can be obtained in the growing season(s).\n",
    "\n",
    "* Sell Price per Harvest is normally the same as the Sell Price of one normal-quality crop. Extra crops are not counted since their occurrence is rare, except in the case of potatoes. The chance of an extra potato is ≈25%, much higher than with any other crop. Thus, the Sell Price per Harvest is 1.25 × 80 instead of 1 × 80."
   ]
  }
 ],
 "metadata": {
  "colab": {
   "collapsed_sections": [
    "WR1P9DWcjAlf",
    "f3KoNga1D5Fm",
    "yD2JS1AsHRBP"
   ],
   "provenance": []
  },
  "kernelspec": {
   "display_name": "Python 3 (ipykernel)",
   "language": "python",
   "name": "python3"
  },
  "language_info": {
   "name": "python"
  }
 },
 "nbformat": 4,
 "nbformat_minor": 0
}
